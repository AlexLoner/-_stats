{
 "cells": [
  {
   "cell_type": "code",
   "execution_count": 3,
   "metadata": {},
   "outputs": [],
   "source": [
    "import requests\n",
    "from bs4 import BeautifulSoup\n",
    "import selenium\n",
    "\n",
    "from selenium.webdriver import Firefox\n",
    "from selenium.webdriver.common.keys import Keys\n",
    "from selenium.common.exceptions import NoSuchElementException, WebDriverException\n",
    "\n",
    "from time import sleep"
   ]
  },
  {
   "cell_type": "markdown",
   "metadata": {},
   "source": [
    "/html/body/div[3]/table/tbody/tr/td/table[1]/tbody/tr/td[2]/form/table/tbody/tr[2]/td[1]/table/tbody/tr/td/div[6]/table/tbody/tr/td[13]/a"
   ]
  },
  {
   "cell_type": "code",
   "execution_count": null,
   "metadata": {},
   "outputs": [],
   "source": []
  },
  {
   "cell_type": "code",
   "execution_count": 65,
   "metadata": {},
   "outputs": [],
   "source": [
    "https = \"https://elibrary.ru\"\n",
    "artical_data = {}"
   ]
  },
  {
   "cell_type": "code",
   "execution_count": 8,
   "metadata": {},
   "outputs": [],
   "source": [
    "r = requests.get(https + '/title_items.asp?id=21814')\n",
    "soup = BeautifulSoup(r.content.decode('utf-8'), \"html.parser\")"
   ]
  },
  {
   "cell_type": "code",
   "execution_count": null,
   "metadata": {},
   "outputs": [],
   "source": [
    "browser = Firefox(executable_path=\"./geckodriver\") # ./geckodriver тоже вроде можно\n",
    "browser.get('https://elibrary.ru/title_items.asp?id=21814')\n",
    "# for i in range(3):\n",
    "page = browser.page_source\n",
    "artical_adresses = get_articles_adress(page)\n",
    "for adress in articles_adrees:\n",
    "    d = find_data(adress)\n",
    "    artical_data[d[1]] = [d[0], d[2]]\n",
    "xp = '/html/body/div[3]/table/tbody/tr/td/table[1]/tbody/tr/td[2]/form/table/tbody/tr[2]/td[1]/table/tbody/tr/td/div[6]/table/tbody/tr/td[13]/a'\n",
    "search_form = browser.find_element_by_xpath(xp)\n",
    "search_form.send_keys(Keys.ENTER)\n",
    "print(artical_data)"
   ]
  },
  {
   "cell_type": "code",
   "execution_count": 119,
   "metadata": {},
   "outputs": [],
   "source": [
    "def get_articles_adress(page):\n",
    "    '''\n",
    "    Возвращает список адресов всех статей\n",
    "    '''\n",
    "    articles_adrees = []\n",
    "    id_str = '/item.asp?id='\n",
    "    for i in page.findAll('a'):\n",
    "        if id_str in i['href']:\n",
    "            num_id = i['href']\n",
    "            articles_adrees.append(https + num_id)\n",
    "    return articles_adrees\n",
    "\n",
    "def find_data(adress):\n",
    "    '''\n",
    "    Возвращает list из названия [статьи, авторы, абстракт]\n",
    "    '''\n",
    "    assert isinstance(adress, str)\n",
    "    art = requests.get(adress)\n",
    "    soup = BeautifulSoup(art.content.decode('utf-8'), \"html.parser\")\n",
    "    data = []\n",
    "    for i in soup.findAll('input'):\n",
    "        try:    \n",
    "            if not i['value'][0].isdigit() and (i['value'][0] == i['value'][0].upper()):\n",
    "                data.append(i['value'])\n",
    "        except:\n",
    "            continue\n",
    "    data.append(soup.find('p').text)\n",
    "    return data\n",
    "    "
   ]
  },
  {
   "cell_type": "code",
   "execution_count": 116,
   "metadata": {},
   "outputs": [],
   "source": [
    "artical_data = {}\n",
    "for adress in articles_adrees:\n",
    "    d = find_data(adress)\n",
    "    artical_data[d[1]] = [d[0], d[2]]"
   ]
  },
  {
   "cell_type": "code",
   "execution_count": null,
   "metadata": {},
   "outputs": [],
   "source": []
  },
  {
   "cell_type": "code",
   "execution_count": 117,
   "metadata": {},
   "outputs": [
    {
     "data": {
      "text/plain": [
       "{'Dual view sliding phases symmetric systems': ['Вайл С|Куклов А Б|Оганесян В|',\n",
       "  ''],\n",
       " 'Origin stationary domain wall enhanced ferroelectric susceptibility': ['Лю С|Цохен Р Е|',\n",
       "  ''],\n",
       " 'Understanding evolution anomalous anharmonicity Bi2Te3-xSex': ['Бурч К С|Гу Г|Жонг Р|Йия С|Тьян Ю|Цава Р Ж|Щнеелоч Ж|',\n",
       "  ''],\n",
       " 'Zn vacancy polaronic hole trap ZnO': ['Алкаускас А|Берхеим Т С|Ехансен К М|Свенсон Б Г|Фродасон Ю К|',\n",
       "  ''],\n",
       " 'Classical quantum thermodynamics lattice model exhibiting structural negative thermal expansion': ['Оцчялини Ц А|Хандунканда С У|Ханцок Ж Н|Цурры Е Б|',\n",
       "  ''],\n",
       " 'Effects biaxial strain improper multiferroicity h-LuFe O3 films studied using restrained thermal expansion method': ['Бовлан Ж|Ванг Х|Ву Х|Дичяра А Д|Жанг Х|Жанг Ю|Йянг Х|Ким Ж В|Ксу Х|Ли Ю|Рьян П Ж|Синха К|Ченг Х|Яроцкий Д А|',\n",
       "  ''],\n",
       " 'Dielectric properties amorphous phase-change materials': ['Вирцсохн М|Волкер Х|Вуттиг М|Енгельманн У|Ест П|Каминский М|Кругер К|Лобо Р П С М|Чен Ц|Щлич Ф|Щлокерманн Ц|',\n",
       "  ''],\n",
       " 'Stacking fault energies nondilute binary alloys using special quasirandom structures': ['Басман Л|Кауфман Ж Л|Лавс К Ж|Махеуб Р|Помрехн Г С|Прибрам-Енес А|Ферры М|',\n",
       "  ''],\n",
       " 'Anharmonicity effects impurity-vacancy centers diamond revealed isotopic shifts optical measurements': ['Гавва В А|Екимов Е А|Кондрин М В|Кривобок В С|Ляпин С Г|Шерин П С|',\n",
       "  ''],\n",
       " 'Impact -band filling dislocation properties bcc transition metals case tantalum-tungsten alloys investigated density-functional theory': ['Вурстер С|Драксл Ц|Ли Х|Пиппан Р|Романер Л|',\n",
       "  ''],\n",
       " 'Efficient systematic scheme construct second-principles lattice dynamical models': ['Войдел Ж Ц|Есцорихуела-Саялеро Ц|Инигуез Ж|',\n",
       "  ''],\n",
       " 'Instantaneous charge dielectric response terahertz pulse excitation TTF-CA': ['Гоми Х|Инагакий Т Ж|Масе Т|Такахаши А|Ямагиши Н|',\n",
       "  ''],\n",
       " 'Ferrielectricity metal-organic ferroelectric tris-sarcosine calcium chloride': ['Бумстеад А М|Гарднер Ж|Гхерсон А С А|Еунг Ж С|Катияр Р С|Лигхтфоот П|Моррисон Ф Д|Проберт М Р|Сале Е К Х|Сахоо С|Славин А М З|Сцотт Ж Ф|Цапелли С Ц|Цлулов Р|',\n",
       "  ''],\n",
       " 'Disorder-induced phase transitions type-II Weyl semimetals': ['Баса Б|Гилберт М Ж|Парк М Ж|',\n",
       "  ''],\n",
       " 'Negative refractive index induced percolation disordered metamaterials': ['Словик Б А|',\n",
       "  ''],\n",
       " 'Machine learning based interatomic potential amorphous carbon': ['Дерингер В Л|Цсаныи Г|',\n",
       "  ''],\n",
       " 'Critical properties Anderson localization transition high-dimensional limit': ['Бироли Г|Тарзия М|Таркуини Е|',\n",
       "  ''],\n",
       " 'Effect long-range hopping interactions entanglement dynamics many-body localization': ['Моеснер Р|Рой Д|Сингх Р|',\n",
       "  ''],\n",
       " 'Phonons Si 24 simultaneously elevated temperature pressure': ['Жанг Х|Ким Д Ю|Ксу Х|Стробел Т А|Тонг Х|Фултз Б|',\n",
       "  ''],\n",
       " 'Low-temperature features heat capacity unary metals intermetallics example bulk aluminum Al3 Sc': ['Вилде Г|Грабовский Б|Гупта А|Дивинский С В|Дутта Б|Кавакбаси Б Т|Неугебауер Ж|Петерлечнер М|Хикел Т|',\n",
       "  '']}"
      ]
     },
     "execution_count": 117,
     "metadata": {},
     "output_type": "execute_result"
    }
   ],
   "source": [
    "artical_data"
   ]
  },
  {
   "cell_type": "code",
   "execution_count": 7,
   "metadata": {},
   "outputs": [
    {
     "ename": "WebDriverException",
     "evalue": "Message: TypeError: this.curBrowser.contentBrowser is null\n",
     "output_type": "error",
     "traceback": [
      "\u001b[0;31m---------------------------------------------------------------------------\u001b[0m",
      "\u001b[0;31mWebDriverException\u001b[0m                        Traceback (most recent call last)",
      "\u001b[0;32m<ipython-input-7-edb8734901a0>\u001b[0m in \u001b[0;36m<module>\u001b[0;34m()\u001b[0m\n\u001b[1;32m      1\u001b[0m \u001b[0mbrowser\u001b[0m \u001b[0;34m=\u001b[0m \u001b[0mFirefox\u001b[0m\u001b[0;34m(\u001b[0m\u001b[0mexecutable_path\u001b[0m\u001b[0;34m=\u001b[0m\u001b[0;34m\"./geckodriver\"\u001b[0m\u001b[0;34m)\u001b[0m \u001b[0;31m# ./geckodriver тоже вроде можно\u001b[0m\u001b[0;34m\u001b[0m\u001b[0m\n\u001b[0;32m----> 2\u001b[0;31m \u001b[0mbrowser\u001b[0m\u001b[0;34m.\u001b[0m\u001b[0mget\u001b[0m\u001b[0;34m(\u001b[0m\u001b[0;34m'https://elibrary.ru/title_items.asp?id=21814'\u001b[0m\u001b[0;34m)\u001b[0m\u001b[0;34m\u001b[0m\u001b[0m\n\u001b[0m\u001b[1;32m      3\u001b[0m \u001b[0mxp\u001b[0m \u001b[0;34m=\u001b[0m \u001b[0;34m'/html/body/div[3]/table/tbody/tr/td/table[1]/tbody/tr/td[2]/form/table/tbody/tr[2]/td[1]/table/tbody/tr/td/div[6]/table/tbody/tr/td[13]/a'\u001b[0m\u001b[0;34m\u001b[0m\u001b[0m\n\u001b[1;32m      4\u001b[0m \u001b[0msearch_form\u001b[0m \u001b[0;34m=\u001b[0m \u001b[0mbrowser\u001b[0m\u001b[0;34m.\u001b[0m\u001b[0mfind_element_by_xpath\u001b[0m\u001b[0;34m(\u001b[0m\u001b[0mxp\u001b[0m\u001b[0;34m)\u001b[0m\u001b[0;34m\u001b[0m\u001b[0m\n\u001b[1;32m      5\u001b[0m \u001b[0msearch_form\u001b[0m\u001b[0;34m.\u001b[0m\u001b[0msend_keys\u001b[0m\u001b[0;34m(\u001b[0m\u001b[0mKeys\u001b[0m\u001b[0;34m.\u001b[0m\u001b[0mENTER\u001b[0m\u001b[0;34m)\u001b[0m\u001b[0;34m\u001b[0m\u001b[0m\n",
      "\u001b[0;32m~/anaconda3/lib/python3.7/site-packages/selenium/webdriver/remote/webdriver.py\u001b[0m in \u001b[0;36mget\u001b[0;34m(self, url)\u001b[0m\n\u001b[1;32m    331\u001b[0m         \u001b[0mLoads\u001b[0m \u001b[0ma\u001b[0m \u001b[0mweb\u001b[0m \u001b[0mpage\u001b[0m \u001b[0;32min\u001b[0m \u001b[0mthe\u001b[0m \u001b[0mcurrent\u001b[0m \u001b[0mbrowser\u001b[0m \u001b[0msession\u001b[0m\u001b[0;34m.\u001b[0m\u001b[0;34m\u001b[0m\u001b[0m\n\u001b[1;32m    332\u001b[0m         \"\"\"\n\u001b[0;32m--> 333\u001b[0;31m         \u001b[0mself\u001b[0m\u001b[0;34m.\u001b[0m\u001b[0mexecute\u001b[0m\u001b[0;34m(\u001b[0m\u001b[0mCommand\u001b[0m\u001b[0;34m.\u001b[0m\u001b[0mGET\u001b[0m\u001b[0;34m,\u001b[0m \u001b[0;34m{\u001b[0m\u001b[0;34m'url'\u001b[0m\u001b[0;34m:\u001b[0m \u001b[0murl\u001b[0m\u001b[0;34m}\u001b[0m\u001b[0;34m)\u001b[0m\u001b[0;34m\u001b[0m\u001b[0m\n\u001b[0m\u001b[1;32m    334\u001b[0m \u001b[0;34m\u001b[0m\u001b[0m\n\u001b[1;32m    335\u001b[0m     \u001b[0;34m@\u001b[0m\u001b[0mproperty\u001b[0m\u001b[0;34m\u001b[0m\u001b[0m\n",
      "\u001b[0;32m~/anaconda3/lib/python3.7/site-packages/selenium/webdriver/remote/webdriver.py\u001b[0m in \u001b[0;36mexecute\u001b[0;34m(self, driver_command, params)\u001b[0m\n\u001b[1;32m    319\u001b[0m         \u001b[0mresponse\u001b[0m \u001b[0;34m=\u001b[0m \u001b[0mself\u001b[0m\u001b[0;34m.\u001b[0m\u001b[0mcommand_executor\u001b[0m\u001b[0;34m.\u001b[0m\u001b[0mexecute\u001b[0m\u001b[0;34m(\u001b[0m\u001b[0mdriver_command\u001b[0m\u001b[0;34m,\u001b[0m \u001b[0mparams\u001b[0m\u001b[0;34m)\u001b[0m\u001b[0;34m\u001b[0m\u001b[0m\n\u001b[1;32m    320\u001b[0m         \u001b[0;32mif\u001b[0m \u001b[0mresponse\u001b[0m\u001b[0;34m:\u001b[0m\u001b[0;34m\u001b[0m\u001b[0m\n\u001b[0;32m--> 321\u001b[0;31m             \u001b[0mself\u001b[0m\u001b[0;34m.\u001b[0m\u001b[0merror_handler\u001b[0m\u001b[0;34m.\u001b[0m\u001b[0mcheck_response\u001b[0m\u001b[0;34m(\u001b[0m\u001b[0mresponse\u001b[0m\u001b[0;34m)\u001b[0m\u001b[0;34m\u001b[0m\u001b[0m\n\u001b[0m\u001b[1;32m    322\u001b[0m             response['value'] = self._unwrap_value(\n\u001b[1;32m    323\u001b[0m                 response.get('value', None))\n",
      "\u001b[0;32m~/anaconda3/lib/python3.7/site-packages/selenium/webdriver/remote/errorhandler.py\u001b[0m in \u001b[0;36mcheck_response\u001b[0;34m(self, response)\u001b[0m\n\u001b[1;32m    240\u001b[0m                 \u001b[0malert_text\u001b[0m \u001b[0;34m=\u001b[0m \u001b[0mvalue\u001b[0m\u001b[0;34m[\u001b[0m\u001b[0;34m'alert'\u001b[0m\u001b[0;34m]\u001b[0m\u001b[0;34m.\u001b[0m\u001b[0mget\u001b[0m\u001b[0;34m(\u001b[0m\u001b[0;34m'text'\u001b[0m\u001b[0;34m)\u001b[0m\u001b[0;34m\u001b[0m\u001b[0m\n\u001b[1;32m    241\u001b[0m             \u001b[0;32mraise\u001b[0m \u001b[0mexception_class\u001b[0m\u001b[0;34m(\u001b[0m\u001b[0mmessage\u001b[0m\u001b[0;34m,\u001b[0m \u001b[0mscreen\u001b[0m\u001b[0;34m,\u001b[0m \u001b[0mstacktrace\u001b[0m\u001b[0;34m,\u001b[0m \u001b[0malert_text\u001b[0m\u001b[0;34m)\u001b[0m\u001b[0;34m\u001b[0m\u001b[0m\n\u001b[0;32m--> 242\u001b[0;31m         \u001b[0;32mraise\u001b[0m \u001b[0mexception_class\u001b[0m\u001b[0;34m(\u001b[0m\u001b[0mmessage\u001b[0m\u001b[0;34m,\u001b[0m \u001b[0mscreen\u001b[0m\u001b[0;34m,\u001b[0m \u001b[0mstacktrace\u001b[0m\u001b[0;34m)\u001b[0m\u001b[0;34m\u001b[0m\u001b[0m\n\u001b[0m\u001b[1;32m    243\u001b[0m \u001b[0;34m\u001b[0m\u001b[0m\n\u001b[1;32m    244\u001b[0m     \u001b[0;32mdef\u001b[0m \u001b[0m_value_or_default\u001b[0m\u001b[0;34m(\u001b[0m\u001b[0mself\u001b[0m\u001b[0;34m,\u001b[0m \u001b[0mobj\u001b[0m\u001b[0;34m,\u001b[0m \u001b[0mkey\u001b[0m\u001b[0;34m,\u001b[0m \u001b[0mdefault\u001b[0m\u001b[0;34m)\u001b[0m\u001b[0;34m:\u001b[0m\u001b[0;34m\u001b[0m\u001b[0m\n",
      "\u001b[0;31mWebDriverException\u001b[0m: Message: TypeError: this.curBrowser.contentBrowser is null\n"
     ]
    }
   ],
   "source": [
    "browser = Firefox(executable_path=\"./geckodriver\") # ./geckodriver тоже вроде можно\n",
    "browser.get('https://elibrary.ru/title_items.asp?id=21814')\n",
    "xp = '/html/body/div[3]/table/tbody/tr/td/table[1]/tbody/tr/td[2]/form/table/tbody/tr[2]/td[1]/table/tbody/tr/td/div[6]/table/tbody/tr/td[13]/a'\n",
    "search_form = browser.find_element_by_xpath(xp)\n",
    "search_form.send_keys(Keys.ENTER)"
   ]
  },
  {
   "cell_type": "code",
   "execution_count": 2,
   "metadata": {
    "scrolled": false
   },
   "outputs": [
    {
     "ename": "NameError",
     "evalue": "name 'browser' is not defined",
     "output_type": "error",
     "traceback": [
      "\u001b[0;31m---------------------------------------------------------------------------\u001b[0m",
      "\u001b[0;31mNameError\u001b[0m                                 Traceback (most recent call last)",
      "\u001b[0;32m<ipython-input-2-ee0d828e96eb>\u001b[0m in \u001b[0;36m<module>\u001b[0;34m()\u001b[0m\n\u001b[0;32m----> 1\u001b[0;31m \u001b[0mhtml\u001b[0m \u001b[0;34m=\u001b[0m \u001b[0mbrowser\u001b[0m\u001b[0;34m.\u001b[0m\u001b[0mpage_source\u001b[0m\u001b[0;34m\u001b[0m\u001b[0m\n\u001b[0m\u001b[1;32m      2\u001b[0m \u001b[0mprint\u001b[0m\u001b[0;34m(\u001b[0m\u001b[0mhtml\u001b[0m\u001b[0;34m)\u001b[0m\u001b[0;34m\u001b[0m\u001b[0m\n",
      "\u001b[0;31mNameError\u001b[0m: name 'browser' is not defined"
     ]
    }
   ],
   "source": [
    "html = browser.page_source\n",
    "print(html)"
   ]
  }
 ],
 "metadata": {
  "kernelspec": {
   "display_name": "Python 3",
   "language": "python",
   "name": "python3"
  },
  "language_info": {
   "codemirror_mode": {
    "name": "ipython",
    "version": 3
   },
   "file_extension": ".py",
   "mimetype": "text/x-python",
   "name": "python",
   "nbconvert_exporter": "python",
   "pygments_lexer": "ipython3",
   "version": "3.7.0"
  }
 },
 "nbformat": 4,
 "nbformat_minor": 2
}
