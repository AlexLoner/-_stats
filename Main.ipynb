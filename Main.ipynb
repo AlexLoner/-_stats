{
 "cells": [
  {
   "cell_type": "code",
   "execution_count": 40,
   "metadata": {},
   "outputs": [],
   "source": [
    "import requests\n",
    "import numpy as np\n",
    "from bs4 import BeautifulSoup\n",
    "import selenium\n",
    "from selenium.webdriver import Chrome\n",
    "from selenium.webdriver.common.by import By\n",
    "from selenium.webdriver.support.ui import WebDriverWait\n",
    "from selenium.webdriver.support import expected_conditions as EC\n",
    "from time import sleep"
   ]
  },
  {
   "cell_type": "markdown",
   "metadata": {},
   "source": [
    "/html/body/div[3]/table/tbody/tr/td/table[1]/tbody/tr/td[2]/form/table/tbody/tr[2]/td[1]/table/tbody/tr/td/div[6]/table/tbody/tr/td[13]/a"
   ]
  },
  {
   "cell_type": "code",
   "execution_count": 62,
   "metadata": {},
   "outputs": [],
   "source": [
    "def get_articles_adress(page):\n",
    "    '''\n",
    "    Возвращает список адресов всех статей\n",
    "    '''\n",
    "    articles_adrees = []\n",
    "    id_str = '/item.asp?id='\n",
    "    for i in page.findAll('a'):\n",
    "        try:\n",
    "            if id_str in i['href']:\n",
    "                num_id = i['href']\n",
    "                articles_adrees.append(https + num_id)\n",
    "        except:\n",
    "            continue\n",
    "    return articles_adrees\n",
    "\n",
    "def find_data(adress):\n",
    "    '''\n",
    "    Возвращает list из названия [статьи, авторы, абстракт]\n",
    "    '''\n",
    "    assert isinstance(adress, str)\n",
    "    sleep(np.random.rand() * 2)\n",
    "    art = requests.get(adress)\n",
    "    soup = BeautifulSoup(art.content.decode('utf-8'), \"html.parser\")\n",
    "    data = []\n",
    "    for i in soup.findAll('input'):\n",
    "        try:    \n",
    "            if not i['value'][0].isdigit() and (i['value'][0] == i['value'][0].upper()):\n",
    "                data.append(i['value'])\n",
    "        except:\n",
    "            continue\n",
    "    abstract = soup.find('p').text\n",
    "    key = 'https://doi'\n",
    "    if abstract:\n",
    "        data.append(abstract)\n",
    "    else:\n",
    "        for i in soup.findAll('a'):\n",
    "            try:\n",
    "                if key in i['href']:\n",
    "                    adress_r = i['href']\n",
    "            except:\n",
    "                continue\n",
    "        abstract_journal = BeautifulSoup(requests.get(adress_r).text, \"html.parser\").find('p').text\n",
    "        data.append(abstract_journal) #если нет абстракта берет его с сайта журнала\n",
    "    return data\n"
   ]
  },
  {
   "cell_type": "markdown",
   "metadata": {},
   "source": [
    "/html/body/div[3]/table/tbody/tr/td/table[1]/tbody/tr/td[2]/form/table/tbody/tr[2]/td[1]/table/tbody/tr/td/div[6]/table/tbody/tr/td[13]/a\n"
   ]
  },
  {
   "cell_type": "code",
   "execution_count": 63,
   "metadata": {},
   "outputs": [
    {
     "ename": "KeyboardInterrupt",
     "evalue": "",
     "output_type": "error",
     "traceback": [
      "\u001b[0;31m---------------------------------------------------------------------------\u001b[0m",
      "\u001b[0;31mTypeError\u001b[0m                                 Traceback (most recent call last)",
      "\u001b[0;32m/usr/lib/python3/dist-packages/urllib3/connectionpool.py\u001b[0m in \u001b[0;36m_make_request\u001b[0;34m(self, conn, method, url, timeout, **httplib_request_kw)\u001b[0m\n\u001b[1;32m    376\u001b[0m             \u001b[0;32mtry\u001b[0m\u001b[0;34m:\u001b[0m  \u001b[0;31m# Python 2.7, use buffering of HTTP responses\u001b[0m\u001b[0;34m\u001b[0m\u001b[0m\n\u001b[0;32m--> 377\u001b[0;31m                 \u001b[0mhttplib_response\u001b[0m \u001b[0;34m=\u001b[0m \u001b[0mconn\u001b[0m\u001b[0;34m.\u001b[0m\u001b[0mgetresponse\u001b[0m\u001b[0;34m(\u001b[0m\u001b[0mbuffering\u001b[0m\u001b[0;34m=\u001b[0m\u001b[0;32mTrue\u001b[0m\u001b[0;34m)\u001b[0m\u001b[0;34m\u001b[0m\u001b[0m\n\u001b[0m\u001b[1;32m    378\u001b[0m             \u001b[0;32mexcept\u001b[0m \u001b[0mTypeError\u001b[0m\u001b[0;34m:\u001b[0m  \u001b[0;31m# Python 2.6 and older\u001b[0m\u001b[0;34m\u001b[0m\u001b[0m\n",
      "\u001b[0;31mTypeError\u001b[0m: getresponse() got an unexpected keyword argument 'buffering'",
      "\nDuring handling of the above exception, another exception occurred:\n",
      "\u001b[0;31mKeyboardInterrupt\u001b[0m                         Traceback (most recent call last)",
      "\u001b[0;32m<ipython-input-63-af216f29a40f>\u001b[0m in \u001b[0;36m<module>\u001b[0;34m()\u001b[0m\n\u001b[1;32m     17\u001b[0m         \u001b[0martical_data\u001b[0m\u001b[0;34m[\u001b[0m\u001b[0md\u001b[0m\u001b[0;34m[\u001b[0m\u001b[0;36m1\u001b[0m\u001b[0;34m]\u001b[0m\u001b[0;34m]\u001b[0m \u001b[0;34m=\u001b[0m \u001b[0;34m[\u001b[0m\u001b[0md\u001b[0m\u001b[0;34m[\u001b[0m\u001b[0;36m0\u001b[0m\u001b[0;34m]\u001b[0m\u001b[0;34m,\u001b[0m\u001b[0md\u001b[0m\u001b[0;34m[\u001b[0m\u001b[0;36m2\u001b[0m\u001b[0;34m]\u001b[0m\u001b[0;34m]\u001b[0m\u001b[0;34m\u001b[0m\u001b[0m\n\u001b[1;32m     18\u001b[0m         \u001b[0msleep\u001b[0m\u001b[0;34m(\u001b[0m\u001b[0mnp\u001b[0m\u001b[0;34m.\u001b[0m\u001b[0mrandom\u001b[0m\u001b[0;34m.\u001b[0m\u001b[0mrand\u001b[0m\u001b[0;34m(\u001b[0m\u001b[0;34m)\u001b[0m \u001b[0;34m*\u001b[0m \u001b[0;36m2\u001b[0m\u001b[0;34m)\u001b[0m\u001b[0;34m\u001b[0m\u001b[0m\n\u001b[0;32m---> 19\u001b[0;31m     \u001b[0msearch_form\u001b[0m\u001b[0;34m.\u001b[0m\u001b[0mclick\u001b[0m\u001b[0;34m(\u001b[0m\u001b[0;34m)\u001b[0m                                                                  \u001b[0;31m# Жмякаем на кнопку\u001b[0m\u001b[0;34m\u001b[0m\u001b[0m\n\u001b[0m\u001b[1;32m     20\u001b[0m     \u001b[0msleep\u001b[0m\u001b[0;34m(\u001b[0m\u001b[0;36m10\u001b[0m\u001b[0;34m)\u001b[0m\u001b[0;34m\u001b[0m\u001b[0m\n",
      "\u001b[0;32m/usr/local/lib/python3.5/dist-packages/selenium/webdriver/remote/webelement.py\u001b[0m in \u001b[0;36mclick\u001b[0;34m(self)\u001b[0m\n\u001b[1;32m     78\u001b[0m     \u001b[0;32mdef\u001b[0m \u001b[0mclick\u001b[0m\u001b[0;34m(\u001b[0m\u001b[0mself\u001b[0m\u001b[0;34m)\u001b[0m\u001b[0;34m:\u001b[0m\u001b[0;34m\u001b[0m\u001b[0m\n\u001b[1;32m     79\u001b[0m         \u001b[0;34m\"\"\"Clicks the element.\"\"\"\u001b[0m\u001b[0;34m\u001b[0m\u001b[0m\n\u001b[0;32m---> 80\u001b[0;31m         \u001b[0mself\u001b[0m\u001b[0;34m.\u001b[0m\u001b[0m_execute\u001b[0m\u001b[0;34m(\u001b[0m\u001b[0mCommand\u001b[0m\u001b[0;34m.\u001b[0m\u001b[0mCLICK_ELEMENT\u001b[0m\u001b[0;34m)\u001b[0m\u001b[0;34m\u001b[0m\u001b[0m\n\u001b[0m\u001b[1;32m     81\u001b[0m \u001b[0;34m\u001b[0m\u001b[0m\n\u001b[1;32m     82\u001b[0m     \u001b[0;32mdef\u001b[0m \u001b[0msubmit\u001b[0m\u001b[0;34m(\u001b[0m\u001b[0mself\u001b[0m\u001b[0;34m)\u001b[0m\u001b[0;34m:\u001b[0m\u001b[0;34m\u001b[0m\u001b[0m\n",
      "\u001b[0;32m/usr/local/lib/python3.5/dist-packages/selenium/webdriver/remote/webelement.py\u001b[0m in \u001b[0;36m_execute\u001b[0;34m(self, command, params)\u001b[0m\n\u001b[1;32m    631\u001b[0m             \u001b[0mparams\u001b[0m \u001b[0;34m=\u001b[0m \u001b[0;34m{\u001b[0m\u001b[0;34m}\u001b[0m\u001b[0;34m\u001b[0m\u001b[0m\n\u001b[1;32m    632\u001b[0m         \u001b[0mparams\u001b[0m\u001b[0;34m[\u001b[0m\u001b[0;34m'id'\u001b[0m\u001b[0;34m]\u001b[0m \u001b[0;34m=\u001b[0m \u001b[0mself\u001b[0m\u001b[0;34m.\u001b[0m\u001b[0m_id\u001b[0m\u001b[0;34m\u001b[0m\u001b[0m\n\u001b[0;32m--> 633\u001b[0;31m         \u001b[0;32mreturn\u001b[0m \u001b[0mself\u001b[0m\u001b[0;34m.\u001b[0m\u001b[0m_parent\u001b[0m\u001b[0;34m.\u001b[0m\u001b[0mexecute\u001b[0m\u001b[0;34m(\u001b[0m\u001b[0mcommand\u001b[0m\u001b[0;34m,\u001b[0m \u001b[0mparams\u001b[0m\u001b[0;34m)\u001b[0m\u001b[0;34m\u001b[0m\u001b[0m\n\u001b[0m\u001b[1;32m    634\u001b[0m \u001b[0;34m\u001b[0m\u001b[0m\n\u001b[1;32m    635\u001b[0m     \u001b[0;32mdef\u001b[0m \u001b[0mfind_element\u001b[0m\u001b[0;34m(\u001b[0m\u001b[0mself\u001b[0m\u001b[0;34m,\u001b[0m \u001b[0mby\u001b[0m\u001b[0;34m=\u001b[0m\u001b[0mBy\u001b[0m\u001b[0;34m.\u001b[0m\u001b[0mID\u001b[0m\u001b[0;34m,\u001b[0m \u001b[0mvalue\u001b[0m\u001b[0;34m=\u001b[0m\u001b[0;32mNone\u001b[0m\u001b[0;34m)\u001b[0m\u001b[0;34m:\u001b[0m\u001b[0;34m\u001b[0m\u001b[0m\n",
      "\u001b[0;32m/usr/local/lib/python3.5/dist-packages/selenium/webdriver/remote/webdriver.py\u001b[0m in \u001b[0;36mexecute\u001b[0;34m(self, driver_command, params)\u001b[0m\n\u001b[1;32m    317\u001b[0m \u001b[0;34m\u001b[0m\u001b[0m\n\u001b[1;32m    318\u001b[0m         \u001b[0mparams\u001b[0m \u001b[0;34m=\u001b[0m \u001b[0mself\u001b[0m\u001b[0;34m.\u001b[0m\u001b[0m_wrap_value\u001b[0m\u001b[0;34m(\u001b[0m\u001b[0mparams\u001b[0m\u001b[0;34m)\u001b[0m\u001b[0;34m\u001b[0m\u001b[0m\n\u001b[0;32m--> 319\u001b[0;31m         \u001b[0mresponse\u001b[0m \u001b[0;34m=\u001b[0m \u001b[0mself\u001b[0m\u001b[0;34m.\u001b[0m\u001b[0mcommand_executor\u001b[0m\u001b[0;34m.\u001b[0m\u001b[0mexecute\u001b[0m\u001b[0;34m(\u001b[0m\u001b[0mdriver_command\u001b[0m\u001b[0;34m,\u001b[0m \u001b[0mparams\u001b[0m\u001b[0;34m)\u001b[0m\u001b[0;34m\u001b[0m\u001b[0m\n\u001b[0m\u001b[1;32m    320\u001b[0m         \u001b[0;32mif\u001b[0m \u001b[0mresponse\u001b[0m\u001b[0;34m:\u001b[0m\u001b[0;34m\u001b[0m\u001b[0m\n\u001b[1;32m    321\u001b[0m             \u001b[0mself\u001b[0m\u001b[0;34m.\u001b[0m\u001b[0merror_handler\u001b[0m\u001b[0;34m.\u001b[0m\u001b[0mcheck_response\u001b[0m\u001b[0;34m(\u001b[0m\u001b[0mresponse\u001b[0m\u001b[0;34m)\u001b[0m\u001b[0;34m\u001b[0m\u001b[0m\n",
      "\u001b[0;32m/usr/local/lib/python3.5/dist-packages/selenium/webdriver/remote/remote_connection.py\u001b[0m in \u001b[0;36mexecute\u001b[0;34m(self, command, params)\u001b[0m\n\u001b[1;32m    374\u001b[0m         \u001b[0mdata\u001b[0m \u001b[0;34m=\u001b[0m \u001b[0mutils\u001b[0m\u001b[0;34m.\u001b[0m\u001b[0mdump_json\u001b[0m\u001b[0;34m(\u001b[0m\u001b[0mparams\u001b[0m\u001b[0;34m)\u001b[0m\u001b[0;34m\u001b[0m\u001b[0m\n\u001b[1;32m    375\u001b[0m         \u001b[0murl\u001b[0m \u001b[0;34m=\u001b[0m \u001b[0;34m'%s%s'\u001b[0m \u001b[0;34m%\u001b[0m \u001b[0;34m(\u001b[0m\u001b[0mself\u001b[0m\u001b[0;34m.\u001b[0m\u001b[0m_url\u001b[0m\u001b[0;34m,\u001b[0m \u001b[0mpath\u001b[0m\u001b[0;34m)\u001b[0m\u001b[0;34m\u001b[0m\u001b[0m\n\u001b[0;32m--> 376\u001b[0;31m         \u001b[0;32mreturn\u001b[0m \u001b[0mself\u001b[0m\u001b[0;34m.\u001b[0m\u001b[0m_request\u001b[0m\u001b[0;34m(\u001b[0m\u001b[0mcommand_info\u001b[0m\u001b[0;34m[\u001b[0m\u001b[0;36m0\u001b[0m\u001b[0;34m]\u001b[0m\u001b[0;34m,\u001b[0m \u001b[0murl\u001b[0m\u001b[0;34m,\u001b[0m \u001b[0mbody\u001b[0m\u001b[0;34m=\u001b[0m\u001b[0mdata\u001b[0m\u001b[0;34m)\u001b[0m\u001b[0;34m\u001b[0m\u001b[0m\n\u001b[0m\u001b[1;32m    377\u001b[0m \u001b[0;34m\u001b[0m\u001b[0m\n\u001b[1;32m    378\u001b[0m     \u001b[0;32mdef\u001b[0m \u001b[0m_request\u001b[0m\u001b[0;34m(\u001b[0m\u001b[0mself\u001b[0m\u001b[0;34m,\u001b[0m \u001b[0mmethod\u001b[0m\u001b[0;34m,\u001b[0m \u001b[0murl\u001b[0m\u001b[0;34m,\u001b[0m \u001b[0mbody\u001b[0m\u001b[0;34m=\u001b[0m\u001b[0;32mNone\u001b[0m\u001b[0;34m)\u001b[0m\u001b[0;34m:\u001b[0m\u001b[0;34m\u001b[0m\u001b[0m\n",
      "\u001b[0;32m/usr/local/lib/python3.5/dist-packages/selenium/webdriver/remote/remote_connection.py\u001b[0m in \u001b[0;36m_request\u001b[0;34m(self, method, url, body)\u001b[0m\n\u001b[1;32m    397\u001b[0m \u001b[0;34m\u001b[0m\u001b[0m\n\u001b[1;32m    398\u001b[0m         \u001b[0;32mif\u001b[0m \u001b[0mself\u001b[0m\u001b[0;34m.\u001b[0m\u001b[0mkeep_alive\u001b[0m\u001b[0;34m:\u001b[0m\u001b[0;34m\u001b[0m\u001b[0m\n\u001b[0;32m--> 399\u001b[0;31m             \u001b[0mresp\u001b[0m \u001b[0;34m=\u001b[0m \u001b[0mself\u001b[0m\u001b[0;34m.\u001b[0m\u001b[0m_conn\u001b[0m\u001b[0;34m.\u001b[0m\u001b[0mrequest\u001b[0m\u001b[0;34m(\u001b[0m\u001b[0mmethod\u001b[0m\u001b[0;34m,\u001b[0m \u001b[0murl\u001b[0m\u001b[0;34m,\u001b[0m \u001b[0mbody\u001b[0m\u001b[0;34m=\u001b[0m\u001b[0mbody\u001b[0m\u001b[0;34m,\u001b[0m \u001b[0mheaders\u001b[0m\u001b[0;34m=\u001b[0m\u001b[0mheaders\u001b[0m\u001b[0;34m)\u001b[0m\u001b[0;34m\u001b[0m\u001b[0m\n\u001b[0m\u001b[1;32m    400\u001b[0m \u001b[0;34m\u001b[0m\u001b[0m\n\u001b[1;32m    401\u001b[0m             \u001b[0mstatuscode\u001b[0m \u001b[0;34m=\u001b[0m \u001b[0mresp\u001b[0m\u001b[0;34m.\u001b[0m\u001b[0mstatus\u001b[0m\u001b[0;34m\u001b[0m\u001b[0m\n",
      "\u001b[0;32m/usr/lib/python3/dist-packages/urllib3/request.py\u001b[0m in \u001b[0;36mrequest\u001b[0;34m(self, method, url, fields, headers, **urlopen_kw)\u001b[0m\n\u001b[1;32m     71\u001b[0m             return self.request_encode_body(method, url, fields=fields,\n\u001b[1;32m     72\u001b[0m                                             \u001b[0mheaders\u001b[0m\u001b[0;34m=\u001b[0m\u001b[0mheaders\u001b[0m\u001b[0;34m,\u001b[0m\u001b[0;34m\u001b[0m\u001b[0m\n\u001b[0;32m---> 73\u001b[0;31m                                             **urlopen_kw)\n\u001b[0m\u001b[1;32m     74\u001b[0m \u001b[0;34m\u001b[0m\u001b[0m\n\u001b[1;32m     75\u001b[0m     def request_encode_url(self, method, url, fields=None, headers=None,\n",
      "\u001b[0;32m/usr/lib/python3/dist-packages/urllib3/request.py\u001b[0m in \u001b[0;36mrequest_encode_body\u001b[0;34m(self, method, url, fields, headers, encode_multipart, multipart_boundary, **urlopen_kw)\u001b[0m\n\u001b[1;32m    149\u001b[0m         \u001b[0mextra_kw\u001b[0m\u001b[0;34m.\u001b[0m\u001b[0mupdate\u001b[0m\u001b[0;34m(\u001b[0m\u001b[0murlopen_kw\u001b[0m\u001b[0;34m)\u001b[0m\u001b[0;34m\u001b[0m\u001b[0m\n\u001b[1;32m    150\u001b[0m \u001b[0;34m\u001b[0m\u001b[0m\n\u001b[0;32m--> 151\u001b[0;31m         \u001b[0;32mreturn\u001b[0m \u001b[0mself\u001b[0m\u001b[0;34m.\u001b[0m\u001b[0murlopen\u001b[0m\u001b[0;34m(\u001b[0m\u001b[0mmethod\u001b[0m\u001b[0;34m,\u001b[0m \u001b[0murl\u001b[0m\u001b[0;34m,\u001b[0m \u001b[0;34m**\u001b[0m\u001b[0mextra_kw\u001b[0m\u001b[0;34m)\u001b[0m\u001b[0;34m\u001b[0m\u001b[0m\n\u001b[0m",
      "\u001b[0;32m/usr/lib/python3/dist-packages/urllib3/poolmanager.py\u001b[0m in \u001b[0;36murlopen\u001b[0;34m(self, method, url, redirect, **kw)\u001b[0m\n\u001b[1;32m    160\u001b[0m             \u001b[0mresponse\u001b[0m \u001b[0;34m=\u001b[0m \u001b[0mconn\u001b[0m\u001b[0;34m.\u001b[0m\u001b[0murlopen\u001b[0m\u001b[0;34m(\u001b[0m\u001b[0mmethod\u001b[0m\u001b[0;34m,\u001b[0m \u001b[0murl\u001b[0m\u001b[0;34m,\u001b[0m \u001b[0;34m**\u001b[0m\u001b[0mkw\u001b[0m\u001b[0;34m)\u001b[0m\u001b[0;34m\u001b[0m\u001b[0m\n\u001b[1;32m    161\u001b[0m         \u001b[0;32melse\u001b[0m\u001b[0;34m:\u001b[0m\u001b[0;34m\u001b[0m\u001b[0m\n\u001b[0;32m--> 162\u001b[0;31m             \u001b[0mresponse\u001b[0m \u001b[0;34m=\u001b[0m \u001b[0mconn\u001b[0m\u001b[0;34m.\u001b[0m\u001b[0murlopen\u001b[0m\u001b[0;34m(\u001b[0m\u001b[0mmethod\u001b[0m\u001b[0;34m,\u001b[0m \u001b[0mu\u001b[0m\u001b[0;34m.\u001b[0m\u001b[0mrequest_uri\u001b[0m\u001b[0;34m,\u001b[0m \u001b[0;34m**\u001b[0m\u001b[0mkw\u001b[0m\u001b[0;34m)\u001b[0m\u001b[0;34m\u001b[0m\u001b[0m\n\u001b[0m\u001b[1;32m    163\u001b[0m \u001b[0;34m\u001b[0m\u001b[0m\n\u001b[1;32m    164\u001b[0m         \u001b[0mredirect_location\u001b[0m \u001b[0;34m=\u001b[0m \u001b[0mredirect\u001b[0m \u001b[0;32mand\u001b[0m \u001b[0mresponse\u001b[0m\u001b[0;34m.\u001b[0m\u001b[0mget_redirect_location\u001b[0m\u001b[0;34m(\u001b[0m\u001b[0;34m)\u001b[0m\u001b[0;34m\u001b[0m\u001b[0m\n",
      "\u001b[0;32m/usr/lib/python3/dist-packages/urllib3/connectionpool.py\u001b[0m in \u001b[0;36murlopen\u001b[0;34m(self, method, url, body, headers, retries, redirect, assert_same_host, timeout, pool_timeout, release_conn, **response_kw)\u001b[0m\n\u001b[1;32m    558\u001b[0m             httplib_response = self._make_request(conn, method, url,\n\u001b[1;32m    559\u001b[0m                                                   \u001b[0mtimeout\u001b[0m\u001b[0;34m=\u001b[0m\u001b[0mtimeout_obj\u001b[0m\u001b[0;34m,\u001b[0m\u001b[0;34m\u001b[0m\u001b[0m\n\u001b[0;32m--> 560\u001b[0;31m                                                   body=body, headers=headers)\n\u001b[0m\u001b[1;32m    561\u001b[0m \u001b[0;34m\u001b[0m\u001b[0m\n\u001b[1;32m    562\u001b[0m             \u001b[0;31m# If we're going to release the connection in ``finally:``, then\u001b[0m\u001b[0;34m\u001b[0m\u001b[0;34m\u001b[0m\u001b[0m\n",
      "\u001b[0;32m/usr/lib/python3/dist-packages/urllib3/connectionpool.py\u001b[0m in \u001b[0;36m_make_request\u001b[0;34m(self, conn, method, url, timeout, **httplib_request_kw)\u001b[0m\n\u001b[1;32m    377\u001b[0m                 \u001b[0mhttplib_response\u001b[0m \u001b[0;34m=\u001b[0m \u001b[0mconn\u001b[0m\u001b[0;34m.\u001b[0m\u001b[0mgetresponse\u001b[0m\u001b[0;34m(\u001b[0m\u001b[0mbuffering\u001b[0m\u001b[0;34m=\u001b[0m\u001b[0;32mTrue\u001b[0m\u001b[0;34m)\u001b[0m\u001b[0;34m\u001b[0m\u001b[0m\n\u001b[1;32m    378\u001b[0m             \u001b[0;32mexcept\u001b[0m \u001b[0mTypeError\u001b[0m\u001b[0;34m:\u001b[0m  \u001b[0;31m# Python 2.6 and older\u001b[0m\u001b[0;34m\u001b[0m\u001b[0m\n\u001b[0;32m--> 379\u001b[0;31m                 \u001b[0mhttplib_response\u001b[0m \u001b[0;34m=\u001b[0m \u001b[0mconn\u001b[0m\u001b[0;34m.\u001b[0m\u001b[0mgetresponse\u001b[0m\u001b[0;34m(\u001b[0m\u001b[0;34m)\u001b[0m\u001b[0;34m\u001b[0m\u001b[0m\n\u001b[0m\u001b[1;32m    380\u001b[0m         \u001b[0;32mexcept\u001b[0m \u001b[0;34m(\u001b[0m\u001b[0mSocketTimeout\u001b[0m\u001b[0;34m,\u001b[0m \u001b[0mBaseSSLError\u001b[0m\u001b[0;34m,\u001b[0m \u001b[0mSocketError\u001b[0m\u001b[0;34m)\u001b[0m \u001b[0;32mas\u001b[0m \u001b[0me\u001b[0m\u001b[0;34m:\u001b[0m\u001b[0;34m\u001b[0m\u001b[0m\n\u001b[1;32m    381\u001b[0m             \u001b[0mself\u001b[0m\u001b[0;34m.\u001b[0m\u001b[0m_raise_timeout\u001b[0m\u001b[0;34m(\u001b[0m\u001b[0merr\u001b[0m\u001b[0;34m=\u001b[0m\u001b[0me\u001b[0m\u001b[0;34m,\u001b[0m \u001b[0murl\u001b[0m\u001b[0;34m=\u001b[0m\u001b[0murl\u001b[0m\u001b[0;34m,\u001b[0m \u001b[0mtimeout_value\u001b[0m\u001b[0;34m=\u001b[0m\u001b[0mread_timeout\u001b[0m\u001b[0;34m)\u001b[0m\u001b[0;34m\u001b[0m\u001b[0m\n",
      "\u001b[0;32m/usr/lib/python3.5/http/client.py\u001b[0m in \u001b[0;36mgetresponse\u001b[0;34m(self)\u001b[0m\n\u001b[1;32m   1195\u001b[0m         \u001b[0;32mtry\u001b[0m\u001b[0;34m:\u001b[0m\u001b[0;34m\u001b[0m\u001b[0m\n\u001b[1;32m   1196\u001b[0m             \u001b[0;32mtry\u001b[0m\u001b[0;34m:\u001b[0m\u001b[0;34m\u001b[0m\u001b[0m\n\u001b[0;32m-> 1197\u001b[0;31m                 \u001b[0mresponse\u001b[0m\u001b[0;34m.\u001b[0m\u001b[0mbegin\u001b[0m\u001b[0;34m(\u001b[0m\u001b[0;34m)\u001b[0m\u001b[0;34m\u001b[0m\u001b[0m\n\u001b[0m\u001b[1;32m   1198\u001b[0m             \u001b[0;32mexcept\u001b[0m \u001b[0mConnectionError\u001b[0m\u001b[0;34m:\u001b[0m\u001b[0;34m\u001b[0m\u001b[0m\n\u001b[1;32m   1199\u001b[0m                 \u001b[0mself\u001b[0m\u001b[0;34m.\u001b[0m\u001b[0mclose\u001b[0m\u001b[0;34m(\u001b[0m\u001b[0;34m)\u001b[0m\u001b[0;34m\u001b[0m\u001b[0m\n",
      "\u001b[0;32m/usr/lib/python3.5/http/client.py\u001b[0m in \u001b[0;36mbegin\u001b[0;34m(self)\u001b[0m\n\u001b[1;32m    295\u001b[0m         \u001b[0;31m# read until we get a non-100 response\u001b[0m\u001b[0;34m\u001b[0m\u001b[0;34m\u001b[0m\u001b[0m\n\u001b[1;32m    296\u001b[0m         \u001b[0;32mwhile\u001b[0m \u001b[0;32mTrue\u001b[0m\u001b[0;34m:\u001b[0m\u001b[0;34m\u001b[0m\u001b[0m\n\u001b[0;32m--> 297\u001b[0;31m             \u001b[0mversion\u001b[0m\u001b[0;34m,\u001b[0m \u001b[0mstatus\u001b[0m\u001b[0;34m,\u001b[0m \u001b[0mreason\u001b[0m \u001b[0;34m=\u001b[0m \u001b[0mself\u001b[0m\u001b[0;34m.\u001b[0m\u001b[0m_read_status\u001b[0m\u001b[0;34m(\u001b[0m\u001b[0;34m)\u001b[0m\u001b[0;34m\u001b[0m\u001b[0m\n\u001b[0m\u001b[1;32m    298\u001b[0m             \u001b[0;32mif\u001b[0m \u001b[0mstatus\u001b[0m \u001b[0;34m!=\u001b[0m \u001b[0mCONTINUE\u001b[0m\u001b[0;34m:\u001b[0m\u001b[0;34m\u001b[0m\u001b[0m\n\u001b[1;32m    299\u001b[0m                 \u001b[0;32mbreak\u001b[0m\u001b[0;34m\u001b[0m\u001b[0m\n",
      "\u001b[0;32m/usr/lib/python3.5/http/client.py\u001b[0m in \u001b[0;36m_read_status\u001b[0;34m(self)\u001b[0m\n\u001b[1;32m    256\u001b[0m \u001b[0;34m\u001b[0m\u001b[0m\n\u001b[1;32m    257\u001b[0m     \u001b[0;32mdef\u001b[0m \u001b[0m_read_status\u001b[0m\u001b[0;34m(\u001b[0m\u001b[0mself\u001b[0m\u001b[0;34m)\u001b[0m\u001b[0;34m:\u001b[0m\u001b[0;34m\u001b[0m\u001b[0m\n\u001b[0;32m--> 258\u001b[0;31m         \u001b[0mline\u001b[0m \u001b[0;34m=\u001b[0m \u001b[0mstr\u001b[0m\u001b[0;34m(\u001b[0m\u001b[0mself\u001b[0m\u001b[0;34m.\u001b[0m\u001b[0mfp\u001b[0m\u001b[0;34m.\u001b[0m\u001b[0mreadline\u001b[0m\u001b[0;34m(\u001b[0m\u001b[0m_MAXLINE\u001b[0m \u001b[0;34m+\u001b[0m \u001b[0;36m1\u001b[0m\u001b[0;34m)\u001b[0m\u001b[0;34m,\u001b[0m \u001b[0;34m\"iso-8859-1\"\u001b[0m\u001b[0;34m)\u001b[0m\u001b[0;34m\u001b[0m\u001b[0m\n\u001b[0m\u001b[1;32m    259\u001b[0m         \u001b[0;32mif\u001b[0m \u001b[0mlen\u001b[0m\u001b[0;34m(\u001b[0m\u001b[0mline\u001b[0m\u001b[0;34m)\u001b[0m \u001b[0;34m>\u001b[0m \u001b[0m_MAXLINE\u001b[0m\u001b[0;34m:\u001b[0m\u001b[0;34m\u001b[0m\u001b[0m\n\u001b[1;32m    260\u001b[0m             \u001b[0;32mraise\u001b[0m \u001b[0mLineTooLong\u001b[0m\u001b[0;34m(\u001b[0m\u001b[0;34m\"status line\"\u001b[0m\u001b[0;34m)\u001b[0m\u001b[0;34m\u001b[0m\u001b[0m\n",
      "\u001b[0;32m/usr/lib/python3.5/socket.py\u001b[0m in \u001b[0;36mreadinto\u001b[0;34m(self, b)\u001b[0m\n\u001b[1;32m    573\u001b[0m         \u001b[0;32mwhile\u001b[0m \u001b[0;32mTrue\u001b[0m\u001b[0;34m:\u001b[0m\u001b[0;34m\u001b[0m\u001b[0m\n\u001b[1;32m    574\u001b[0m             \u001b[0;32mtry\u001b[0m\u001b[0;34m:\u001b[0m\u001b[0;34m\u001b[0m\u001b[0m\n\u001b[0;32m--> 575\u001b[0;31m                 \u001b[0;32mreturn\u001b[0m \u001b[0mself\u001b[0m\u001b[0;34m.\u001b[0m\u001b[0m_sock\u001b[0m\u001b[0;34m.\u001b[0m\u001b[0mrecv_into\u001b[0m\u001b[0;34m(\u001b[0m\u001b[0mb\u001b[0m\u001b[0;34m)\u001b[0m\u001b[0;34m\u001b[0m\u001b[0m\n\u001b[0m\u001b[1;32m    576\u001b[0m             \u001b[0;32mexcept\u001b[0m \u001b[0mtimeout\u001b[0m\u001b[0;34m:\u001b[0m\u001b[0;34m\u001b[0m\u001b[0m\n\u001b[1;32m    577\u001b[0m                 \u001b[0mself\u001b[0m\u001b[0;34m.\u001b[0m\u001b[0m_timeout_occurred\u001b[0m \u001b[0;34m=\u001b[0m \u001b[0;32mTrue\u001b[0m\u001b[0;34m\u001b[0m\u001b[0m\n",
      "\u001b[0;31mKeyboardInterrupt\u001b[0m: "
     ]
    }
   ],
   "source": [
    "https = \"https://elibrary.ru\"\n",
    "artical_data = {}\n",
    "artical_adresses = []\n",
    "xp_main    = '/html/body/div[3]/table/tbody/tr/td/table[1]/tbody/tr/td[2]/form/table/tbody/tr[2]/td[1]/table/tbody/tr/td/div[6]/table/tbody/tr/td[13]/a'\n",
    "xp_reserve = '/html/body/div[2]/table/tbody/tr/td/table[1]/tbody/tr/td[2]/form/table/tbody/tr[2]/td[1]/table/tbody/tr/td/div[6]/table/tbody/tr/td[13]/a'\n",
    "\n",
    "browser = Chrome(executable_path=\"./chromedriver\") # ./geckodriver тоже вроде можно\n",
    "wait = WebDriverWait(browser, 30, 1)\n",
    "browser.get('https://elibrary.ru/title_items.asp?id=21814')                          # Заходим на первую страницу журнала\n",
    "for i in range(4):\n",
    "    search_form = wait.until(EC.visibility_of_element_located((By.XPATH, xp_main)))\n",
    "    page = BeautifulSoup(browser.page_source, \"html.parser\")                             # Забираем страничку и преобразуем ее в BS\n",
    "    new_id = get_articles_adress(page)                                                   # Собираем со странички все адреса статей\n",
    "    artical_adresses.append(new_id)                                                      # Добавляем адреса в хранилище\n",
    "    for _id in artical_adresses[-1]:\n",
    "        d = find_data(_id)\n",
    "        artical_data[d[1]] = [d[0],d[2]]\n",
    "        sleep(np.random.rand() * 2)\n",
    "    search_form.click()                                                                  # Жмякаем на кнопку\n",
    "    sleep(10)"
   ]
  },
  {
   "cell_type": "code",
   "execution_count": 65,
   "metadata": {},
   "outputs": [
    {
     "data": {
      "text/plain": [
       "['Войдел Ж Ц|Есцорихуела-Саялеро Ц|Инигуез Ж|',\n",
       " \"We start from the polynomial interatomic potentials introduced by Wojdeł et\\xa0al. [J. Phys.: Condens. Matter 25, 305401 (2013)] and take advantage of one of their key features—namely, the linear dependence of the energy on the potential's adjustable parameters—to devise a scheme for the construction of first-principles-based (second-principles) models for large-scale lattice-dynamical simulations. Our method presents the following convenient features. The parameters of the model are computed in a very fast and efficient way, as it is possible to recast the fit to a training set of first-principles data into a simple matrix diagonalization problem. Our method selects automatically the interactions that are most relevant to reproduce the training-set data, by choosing from a pool that includes virtually all possible coupling terms, and produces a family of models of increasing complexity and accuracy. We work with practical and convenient cross-validation criteria linked to the physical properties that will be relevant in future simulations based on the new model, and which greatly facilitate the task of identifying a potential that is simultaneously simple (thus computationally light), very accurate, and predictive. We also discuss practical ways to guarantee that our energy models are bounded from below, with a minimal impact on their accuracy. Finally, we demonstrate our scheme with an application to ferroelastic perovskite SrTiO3, which features many nontrivial lattice-dynamical features (e.g., a phase transition driven by soft phonons, competing structural instabilities, highly anharmonic dynamics) and provides a very demanding test.\"]"
      ]
     },
     "execution_count": 65,
     "metadata": {},
     "output_type": "execute_result"
    }
   ],
   "source": [
    "artical_data['Efficient systematic scheme construct second-principles lattice dynamical models']"
   ]
  },
  {
   "cell_type": "code",
   "execution_count": 58,
   "metadata": {},
   "outputs": [
    {
     "name": "stderr",
     "output_type": "stream",
     "text": [
      "/usr/lib/python3/dist-packages/bs4/__init__.py:166: UserWarning: No parser was explicitly specified, so I'm using the best available HTML parser for this system (\"lxml\"). This usually isn't a problem, but if you run this code on another system, or in a different virtual environment, it may use a different parser and behave differently.\n",
      "\n",
      "To get rid of this warning, change this:\n",
      "\n",
      " BeautifulSoup([your markup])\n",
      "\n",
      "to this:\n",
      "\n",
      " BeautifulSoup([your markup], \"lxml\")\n",
      "\n",
      "  markup_type=markup_type))\n"
     ]
    },
    {
     "data": {
      "text/plain": [
       "'Recent progress in high-order harmonic generation with few-cycle mid-infrared wavelength lasers has pushed light pulses into the water-window region and beyond. These pulses have the bandwidth to support single attosecond pulses down to a few tens of attoseconds. However, the present available techniques for attosecond pulse measurement are not applicable to such pulses. Here we report a phase-retrieval method using the standard photoelectron streaking technique where an attosecond pulse is converted into its electron replica through photoionization of atoms in the presence of a time-delayed infrared laser. The iterative algorithm allows accurate reconstruction of the spectral phase of light pulses, from the extreme-ultraviolet (XUV) to soft x-rays, with pulse durations from hundreds down to a few tens of attoseconds. At the same time, the streaking laser fields, including short pulses that span a few octaves, can also be accurately retrieved. Such well-characterized single attosecond pulses in the XUV to the soft-x-ray region are required for time-resolved probing of inner-shell electronic dynamics of matter at their own timescale of a few tens of attoseconds.'"
      ]
     },
     "execution_count": 58,
     "metadata": {},
     "output_type": "execute_result"
    }
   ],
   "source": [
    "BeautifulSoup(requests.get('https://doi.org/10.1103/PhysRevA.95.043407').text).find('p').text"
   ]
  },
  {
   "cell_type": "code",
   "execution_count": 12,
   "metadata": {},
   "outputs": [],
   "source": [
    "xp  = '/html/body/div[3]/table/tbody/tr/td/table[1]/tbody/tr/td[2]/form/table/tbody/tr[2]/td[1]/table/tbody/tr/td/div[6]/table/tbody/tr/td[13]/a'\n",
    "xp1 = '/html/body/div[2]/table/tbody/tr/td/table[1]/tbody/tr/td[2]/form/table/tbody/tr[2]/td[1]/table/tbody/tr/td/div[6]/table/tbody/tr/td[13]/a'\n",
    "xp2 = '/html/body/div[3]/table/tbody/tr/td/table[1]/tbody/tr/td[2]/form/table/tbody/tr[2]/td[1]/table/tbody/tr/td/div[6]/table/tbody/tr/td[13]/a'\n",
    "xp3 = '/html/body/div[3]/table/tbody/tr/td/table[1]/tbody/tr/td[2]/form/table/tbody/tr[2]/td[1]/table/tbody/tr/td/div[6]/table/tbody/tr/td[13]/a'\n",
    "xp4 = '/html/body/div[3]/table/tbody/tr/td/table[1]/tbody/tr/td[2]/form/table/tbody/tr[2]/td[1]/table/tbody/tr/td/div[6]/table/tbody/tr/td[13]/a'\n",
    "xp5 = '/html/body/div[3]/table/tbody/tr/td/table[1]/tbody/tr/td[2]/form/table/tbody/tr[2]/td[1]/table/tbody/tr/td/div[6]/table/tbody/tr/td[13]/a'\n",
    "xp6 = '/html/body/div[3]/table/tbody/tr/td/table[1]/tbody/tr/td[2]/form/table/tbody/tr[2]/td[1]/table/tbody/tr/td/div[6]/table/tbody/tr/td[13]/a'\n",
    "xp7 = '/html/body/div[3]/table/tbody/tr/td/table[1]/tbody/tr/td[2]/form/table/tbody/tr[2]/td[1]/table/tbody/tr/td/div[6]/table/tbody/tr/td[13]/a'\n",
    "xp8 = '/html/body/div[3]/table/tbody/tr/td/table[1]/tbody/tr/td[2]/form/table/tbody/tr[2]/td[1]/table/tbody/tr/td/div[6]/table/tbody/tr/td[13]/a'"
   ]
  },
  {
   "cell_type": "code",
   "execution_count": 13,
   "metadata": {},
   "outputs": [
    {
     "data": {
      "text/plain": [
       "True"
      ]
     },
     "execution_count": 13,
     "metadata": {},
     "output_type": "execute_result"
    }
   ],
   "source": [
    "xp8 == xp"
   ]
  },
  {
   "cell_type": "code",
   "execution_count": 66,
   "metadata": {},
   "outputs": [
    {
     "name": "stdout",
     "output_type": "stream",
     "text": [
      "Press:  /html/body/div[3]/table/tbody/tr/td/table[1]/tbody/tr/td[2]/form/table/tbody/tr[2]/td[1]/table/tbody/tr/td/div[6]/table/tbody/tr/td[13]/a\n",
      "I found next id:  ['https://elibrary.ru/item.asp?id=29601180', 'https://elibrary.ru/item.asp?id=29578204', 'https://elibrary.ru/item.asp?id=29604436', 'https://elibrary.ru/item.asp?id=29604192', 'https://elibrary.ru/item.asp?id=29630077', 'https://elibrary.ru/item.asp?id=29578370', 'https://elibrary.ru/item.asp?id=29558918', 'https://elibrary.ru/item.asp?id=29586568', 'https://elibrary.ru/item.asp?id=29558963', 'https://elibrary.ru/item.asp?id=29630375', 'https://elibrary.ru/item.asp?id=29586795', 'https://elibrary.ru/item.asp?id=29611932', 'https://elibrary.ru/item.asp?id=29615458', 'https://elibrary.ru/item.asp?id=29619415', 'https://elibrary.ru/item.asp?id=29598136', 'https://elibrary.ru/item.asp?id=29565977', 'https://elibrary.ru/item.asp?id=29638232', 'https://elibrary.ru/item.asp?id=29592135', 'https://elibrary.ru/item.asp?id=29592355', 'https://elibrary.ru/item.asp?id=29613309']\n"
     ]
    }
   ],
   "source": [
    "\n",
    "print('I found next id: ', new_id)\n",
    "#     except:\n",
    "#         print('Just forget it')\n",
    "# #     for adress in artical_adresses:\n",
    "# #         d = find_data(adress)\n",
    "# #         artical_data[d[1]] = [d[0], d[2]]\n",
    "    "
   ]
  },
  {
   "cell_type": "code",
   "execution_count": 32,
   "metadata": {
    "scrolled": true
   },
   "outputs": [
    {
     "name": "stdout",
     "output_type": "stream",
     "text": [
      "I found next id:  ['https://elibrary.ru/item.asp?id=29621052', 'https://elibrary.ru/item.asp?id=29569074', 'https://elibrary.ru/item.asp?id=29613213', 'https://elibrary.ru/item.asp?id=29599695', 'https://elibrary.ru/item.asp?id=29639343', 'https://elibrary.ru/item.asp?id=29607042', 'https://elibrary.ru/item.asp?id=29643122', 'https://elibrary.ru/item.asp?id=29700189', 'https://elibrary.ru/item.asp?id=29478497', 'https://elibrary.ru/item.asp?id=29631769', 'https://elibrary.ru/item.asp?id=29579757', 'https://elibrary.ru/item.asp?id=29631798', 'https://elibrary.ru/item.asp?id=29689105', 'https://elibrary.ru/item.asp?id=29593485', 'https://elibrary.ru/item.asp?id=29639238', 'https://elibrary.ru/item.asp?id=29621076', 'https://elibrary.ru/item.asp?id=29600301', 'https://elibrary.ru/item.asp?id=29625780', 'https://elibrary.ru/item.asp?id=29601471', 'https://elibrary.ru/item.asp?id=29594806']\n",
      "Press:  /html/body/div[3]/table/tbody/tr/td/table[1]/tbody/tr/td[2]/form/table/tbody/tr[2]/td[1]/table/tbody/tr/td/div[6]/table/tbody/tr/td[5]/a\n",
      "I'm on page 2\n",
      "I found next id:  ['https://elibrary.ru/item.asp?id=29621052', 'https://elibrary.ru/item.asp?id=29569074', 'https://elibrary.ru/item.asp?id=29613213', 'https://elibrary.ru/item.asp?id=29599695', 'https://elibrary.ru/item.asp?id=29639343', 'https://elibrary.ru/item.asp?id=29607042', 'https://elibrary.ru/item.asp?id=29643122', 'https://elibrary.ru/item.asp?id=29700189', 'https://elibrary.ru/item.asp?id=29478497', 'https://elibrary.ru/item.asp?id=29631769', 'https://elibrary.ru/item.asp?id=29579757', 'https://elibrary.ru/item.asp?id=29631798', 'https://elibrary.ru/item.asp?id=29689105', 'https://elibrary.ru/item.asp?id=29593485', 'https://elibrary.ru/item.asp?id=29639238', 'https://elibrary.ru/item.asp?id=29621076', 'https://elibrary.ru/item.asp?id=29600301', 'https://elibrary.ru/item.asp?id=29625780', 'https://elibrary.ru/item.asp?id=29601471', 'https://elibrary.ru/item.asp?id=29594806']\n",
      "Press:  /html/body/div[3]/table/tbody/tr/td/table[1]/tbody/tr/td[2]/form/table/tbody/tr[2]/td[1]/table/tbody/tr/td/div[6]/table/tbody/tr/td[6]/a\n",
      "Just forget it\n",
      "Press:  /html/body/div[3]/table/tbody/tr/td/table[1]/tbody/tr/td[2]/form/table/tbody/tr[2]/td[1]/table/tbody/tr/td/div[6]/table/tbody/tr/td[7]/a\n",
      "Just forget it\n"
     ]
    }
   ],
   "source": [
    "for page_num in range(4, 7):\n",
    "    sleep(2 * np.random.random())\n",
    "    xp = '/html/body/div[3]/table/tbody/tr/td/table[1]/tbody/tr/td[2]/form/table/tbody/tr[2]/td[1]/table/tbody/tr/td/div[6]/table/tbody/tr/td[' + str(page_num+1) + ']/a'\n",
    "    try:\n",
    "        print(\"Press: \", xp)\n",
    "        search_form = browser.find_element_by_xpath(xp)\n",
    "        search_form.send_keys(Keys.ENTER)\n",
    "        print(\"I'm on page {}\".format(page_num-2))\n",
    "        page = BeautifulSoup(browser.page_source, \"html.parser\")\n",
    "        new_id = get_articles_adress(page)\n",
    "        artical_adresses.append(new_id)\n",
    "        print('I found next id: ', new_id)\n",
    "    except:\n",
    "        print('Just forget it')\n",
    "#     for adress in artical_adresses:\n",
    "#         d = find_data(adress)\n",
    "#         artical_data[d[1]] = [d[0], d[2]]\n",
    "    "
   ]
  },
  {
   "cell_type": "code",
   "execution_count": 28,
   "metadata": {},
   "outputs": [
    {
     "data": {
      "text/plain": [
       "str"
      ]
     },
     "execution_count": 28,
     "metadata": {},
     "output_type": "execute_result"
    }
   ],
   "source": []
  },
  {
   "cell_type": "code",
   "execution_count": 22,
   "metadata": {},
   "outputs": [
    {
     "data": {
      "text/plain": [
       "bs4.BeautifulSoup"
      ]
     },
     "execution_count": 22,
     "metadata": {},
     "output_type": "execute_result"
    }
   ],
   "source": [
    "type(page)"
   ]
  },
  {
   "cell_type": "code",
   "execution_count": 29,
   "metadata": {},
   "outputs": [
    {
     "data": {
      "text/plain": [
       "[['https://elibrary.ru/item.asp?id=29621052',\n",
       "  'https://elibrary.ru/item.asp?id=29569074',\n",
       "  'https://elibrary.ru/item.asp?id=29613213',\n",
       "  'https://elibrary.ru/item.asp?id=29599695',\n",
       "  'https://elibrary.ru/item.asp?id=29639343',\n",
       "  'https://elibrary.ru/item.asp?id=29607042',\n",
       "  'https://elibrary.ru/item.asp?id=29643122',\n",
       "  'https://elibrary.ru/item.asp?id=29700189',\n",
       "  'https://elibrary.ru/item.asp?id=29478497',\n",
       "  'https://elibrary.ru/item.asp?id=29631769',\n",
       "  'https://elibrary.ru/item.asp?id=29579757',\n",
       "  'https://elibrary.ru/item.asp?id=29631798',\n",
       "  'https://elibrary.ru/item.asp?id=29689105',\n",
       "  'https://elibrary.ru/item.asp?id=29593485',\n",
       "  'https://elibrary.ru/item.asp?id=29639238',\n",
       "  'https://elibrary.ru/item.asp?id=29621076',\n",
       "  'https://elibrary.ru/item.asp?id=29600301',\n",
       "  'https://elibrary.ru/item.asp?id=29625780',\n",
       "  'https://elibrary.ru/item.asp?id=29601471',\n",
       "  'https://elibrary.ru/item.asp?id=29594806'],\n",
       " [],\n",
       " ['https://elibrary.ru/item.asp?id=29621052',\n",
       "  'https://elibrary.ru/item.asp?id=29569074',\n",
       "  'https://elibrary.ru/item.asp?id=29613213',\n",
       "  'https://elibrary.ru/item.asp?id=29599695',\n",
       "  'https://elibrary.ru/item.asp?id=29639343',\n",
       "  'https://elibrary.ru/item.asp?id=29607042',\n",
       "  'https://elibrary.ru/item.asp?id=29643122',\n",
       "  'https://elibrary.ru/item.asp?id=29700189',\n",
       "  'https://elibrary.ru/item.asp?id=29478497',\n",
       "  'https://elibrary.ru/item.asp?id=29631769',\n",
       "  'https://elibrary.ru/item.asp?id=29579757',\n",
       "  'https://elibrary.ru/item.asp?id=29631798',\n",
       "  'https://elibrary.ru/item.asp?id=29689105',\n",
       "  'https://elibrary.ru/item.asp?id=29593485',\n",
       "  'https://elibrary.ru/item.asp?id=29639238',\n",
       "  'https://elibrary.ru/item.asp?id=29621076',\n",
       "  'https://elibrary.ru/item.asp?id=29600301',\n",
       "  'https://elibrary.ru/item.asp?id=29625780',\n",
       "  'https://elibrary.ru/item.asp?id=29601471',\n",
       "  'https://elibrary.ru/item.asp?id=29594806'],\n",
       " ['https://elibrary.ru/item.asp?id=29621052',\n",
       "  'https://elibrary.ru/item.asp?id=29569074',\n",
       "  'https://elibrary.ru/item.asp?id=29613213',\n",
       "  'https://elibrary.ru/item.asp?id=29599695',\n",
       "  'https://elibrary.ru/item.asp?id=29639343',\n",
       "  'https://elibrary.ru/item.asp?id=29607042',\n",
       "  'https://elibrary.ru/item.asp?id=29643122',\n",
       "  'https://elibrary.ru/item.asp?id=29700189',\n",
       "  'https://elibrary.ru/item.asp?id=29478497',\n",
       "  'https://elibrary.ru/item.asp?id=29631769',\n",
       "  'https://elibrary.ru/item.asp?id=29579757',\n",
       "  'https://elibrary.ru/item.asp?id=29631798',\n",
       "  'https://elibrary.ru/item.asp?id=29689105',\n",
       "  'https://elibrary.ru/item.asp?id=29593485',\n",
       "  'https://elibrary.ru/item.asp?id=29639238',\n",
       "  'https://elibrary.ru/item.asp?id=29621076',\n",
       "  'https://elibrary.ru/item.asp?id=29600301',\n",
       "  'https://elibrary.ru/item.asp?id=29625780',\n",
       "  'https://elibrary.ru/item.asp?id=29601471',\n",
       "  'https://elibrary.ru/item.asp?id=29594806'],\n",
       " ['https://elibrary.ru/item.asp?id=29621052',\n",
       "  'https://elibrary.ru/item.asp?id=29569074',\n",
       "  'https://elibrary.ru/item.asp?id=29613213',\n",
       "  'https://elibrary.ru/item.asp?id=29599695',\n",
       "  'https://elibrary.ru/item.asp?id=29639343',\n",
       "  'https://elibrary.ru/item.asp?id=29607042',\n",
       "  'https://elibrary.ru/item.asp?id=29643122',\n",
       "  'https://elibrary.ru/item.asp?id=29700189',\n",
       "  'https://elibrary.ru/item.asp?id=29478497',\n",
       "  'https://elibrary.ru/item.asp?id=29631769',\n",
       "  'https://elibrary.ru/item.asp?id=29579757',\n",
       "  'https://elibrary.ru/item.asp?id=29631798',\n",
       "  'https://elibrary.ru/item.asp?id=29689105',\n",
       "  'https://elibrary.ru/item.asp?id=29593485',\n",
       "  'https://elibrary.ru/item.asp?id=29639238',\n",
       "  'https://elibrary.ru/item.asp?id=29621076',\n",
       "  'https://elibrary.ru/item.asp?id=29600301',\n",
       "  'https://elibrary.ru/item.asp?id=29625780',\n",
       "  'https://elibrary.ru/item.asp?id=29601471',\n",
       "  'https://elibrary.ru/item.asp?id=29594806'],\n",
       " ['https://elibrary.ru/item.asp?id=29621052',\n",
       "  'https://elibrary.ru/item.asp?id=29569074',\n",
       "  'https://elibrary.ru/item.asp?id=29613213',\n",
       "  'https://elibrary.ru/item.asp?id=29599695',\n",
       "  'https://elibrary.ru/item.asp?id=29639343',\n",
       "  'https://elibrary.ru/item.asp?id=29607042',\n",
       "  'https://elibrary.ru/item.asp?id=29643122',\n",
       "  'https://elibrary.ru/item.asp?id=29700189',\n",
       "  'https://elibrary.ru/item.asp?id=29478497',\n",
       "  'https://elibrary.ru/item.asp?id=29631769',\n",
       "  'https://elibrary.ru/item.asp?id=29579757',\n",
       "  'https://elibrary.ru/item.asp?id=29631798',\n",
       "  'https://elibrary.ru/item.asp?id=29689105',\n",
       "  'https://elibrary.ru/item.asp?id=29593485',\n",
       "  'https://elibrary.ru/item.asp?id=29639238',\n",
       "  'https://elibrary.ru/item.asp?id=29621076',\n",
       "  'https://elibrary.ru/item.asp?id=29600301',\n",
       "  'https://elibrary.ru/item.asp?id=29625780',\n",
       "  'https://elibrary.ru/item.asp?id=29601471',\n",
       "  'https://elibrary.ru/item.asp?id=29594806']]"
      ]
     },
     "execution_count": 29,
     "metadata": {},
     "output_type": "execute_result"
    }
   ],
   "source": [
    "artical_adresses"
   ]
  },
  {
   "cell_type": "code",
   "execution_count": 8,
   "metadata": {},
   "outputs": [
    {
     "data": {
      "text/plain": [
       "20"
      ]
     },
     "execution_count": 8,
     "metadata": {},
     "output_type": "execute_result"
    }
   ],
   "source": [
    "len(artical_data)"
   ]
  }
 ],
 "metadata": {
  "kernelspec": {
   "display_name": "Python 3",
   "language": "python",
   "name": "python3"
  },
  "language_info": {
   "codemirror_mode": {
    "name": "ipython",
    "version": 3
   },
   "file_extension": ".py",
   "mimetype": "text/x-python",
   "name": "python",
   "nbconvert_exporter": "python",
   "pygments_lexer": "ipython3",
   "version": "3.5.2"
  }
 },
 "nbformat": 4,
 "nbformat_minor": 2
}
