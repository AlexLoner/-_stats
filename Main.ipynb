{
 "cells": [
  {
   "cell_type": "code",
   "execution_count": 1,
   "metadata": {},
   "outputs": [],
   "source": [
    "import requests\n",
    "import numpy as np\n",
    "from bs4 import BeautifulSoup\n",
    "import selenium\n",
    "from selenium.webdriver import Firefox\n",
    "from selenium.webdriver.common.by import By\n",
    "from selenium.webdriver.support.ui import WebDriverWait\n",
    "from selenium.webdriver.support import expected_conditions as EC\n",
    "from time import sleep"
   ]
  },
  {
   "cell_type": "markdown",
   "metadata": {},
   "source": [
    "/html/body/div[3]/table/tbody/tr/td/table[1]/tbody/tr/td[2]/form/table/tbody/tr[2]/td[1]/table/tbody/tr/td/div[6]/table/tbody/tr/td[13]/a"
   ]
  },
  {
   "cell_type": "code",
   "execution_count": 71,
   "metadata": {},
   "outputs": [],
   "source": [
    "def get_articles_adress(page):\n",
    "    '''\n",
    "    Возвращает список адресов всех статей\n",
    "    '''\n",
    "    articles_adrees = []\n",
    "    id_str = '/item.asp?id='\n",
    "    for i in page.findAll('a'):\n",
    "        try:\n",
    "            if id_str in i['href']:\n",
    "                num_id = i['href']\n",
    "                articles_adrees.append(https + num_id)\n",
    "        except:\n",
    "            continue\n",
    "    return articles_adrees\n",
    "def find_data(adress):\n",
    "    '''\n",
    "    Возвращает list из [названия статьи, авторы, число цитирований, абстракт]\n",
    "    '''\n",
    "    assert isinstance(adress, str)\n",
    "    sleep(np.random.rand() * 2)\n",
    "    art = requests.get(adress)\n",
    "    soup = BeautifulSoup(art.content.decode('utf-8'), \"html.parser\")\n",
    "    data = []\n",
    "    for i in soup.findAll('input'):\n",
    "        try:    \n",
    "            if not i['value'][0].isdigit() and (i['value'][0] == i['value'][0].upper()):\n",
    "                data.append(i['value'])\n",
    "        except:\n",
    "            continue\n",
    "    quot = soup.findAll('a', attrs= {'href':['cit_items.asp?id='+adress.split('=')[-1]]})[0].text\n",
    "    data.append(quot)\n",
    "    abstract = soup.find('p').text\n",
    "    \n",
    "    key = 'https://doi'\n",
    "    if abstract:\n",
    "        data.append(abstract)\n",
    "    else:\n",
    "        for i in soup.findAll('a'):\n",
    "            try:\n",
    "                if key in i['href']:\n",
    "                    adress_r = i['href']\n",
    "            except:\n",
    "                continue\n",
    "        abstract_journal = BeautifulSoup(requests.get(adress_r).text, \"html.parser\").find('p').text\n",
    "        data.append(abstract_journal) #если нет абстракта берет его с сайта журнала\n",
    "        \n",
    "    return data"
   ]
  },
  {
   "cell_type": "markdown",
   "metadata": {},
   "source": [
    "/html/body/div[3]/table/tbody/tr/td/table[1]/tbody/tr/td[2]/form/table/tbody/tr[2]/td[1]/table/tbody/tr/td/div[6]/table/tbody/tr/td[13]/a\n"
   ]
  },
  {
   "cell_type": "code",
   "execution_count": 2,
   "metadata": {
    "scrolled": true
   },
   "outputs": [
    {
     "ename": "WebDriverException",
     "evalue": "Message: TypeError: this.curBrowser.contentBrowser is null\n",
     "output_type": "error",
     "traceback": [
      "\u001b[0;31m---------------------------------------------------------------------------\u001b[0m",
      "\u001b[0;31mWebDriverException\u001b[0m                        Traceback (most recent call last)",
      "\u001b[0;32m<ipython-input-2-ed79d9b33aae>\u001b[0m in \u001b[0;36m<module>\u001b[0;34m()\u001b[0m\n\u001b[1;32m      1\u001b[0m \u001b[0mbrowser\u001b[0m \u001b[0;34m=\u001b[0m \u001b[0mFirefox\u001b[0m\u001b[0;34m(\u001b[0m\u001b[0mexecutable_path\u001b[0m\u001b[0;34m=\u001b[0m\u001b[0;34m\"./geckodriver\"\u001b[0m\u001b[0;34m)\u001b[0m \u001b[0;31m# ./geckodriver тоже вроде можно\u001b[0m\u001b[0;34m\u001b[0m\u001b[0m\n\u001b[1;32m      2\u001b[0m \u001b[0mwait\u001b[0m \u001b[0;34m=\u001b[0m \u001b[0mWebDriverWait\u001b[0m\u001b[0;34m(\u001b[0m\u001b[0mbrowser\u001b[0m\u001b[0;34m,\u001b[0m \u001b[0;36m30\u001b[0m\u001b[0;34m,\u001b[0m \u001b[0;36m1\u001b[0m\u001b[0;34m)\u001b[0m\u001b[0;34m\u001b[0m\u001b[0m\n\u001b[0;32m----> 3\u001b[0;31m \u001b[0mbrowser\u001b[0m\u001b[0;34m.\u001b[0m\u001b[0mget\u001b[0m\u001b[0;34m(\u001b[0m\u001b[0;34m'https://elibrary.ru/title_items.asp?id=21813'\u001b[0m\u001b[0;34m)\u001b[0m\u001b[0;34m\u001b[0m\u001b[0m\n\u001b[0m",
      "\u001b[0;32m~/anaconda3/lib/python3.7/site-packages/selenium/webdriver/remote/webdriver.py\u001b[0m in \u001b[0;36mget\u001b[0;34m(self, url)\u001b[0m\n\u001b[1;32m    331\u001b[0m         \u001b[0mLoads\u001b[0m \u001b[0ma\u001b[0m \u001b[0mweb\u001b[0m \u001b[0mpage\u001b[0m \u001b[0;32min\u001b[0m \u001b[0mthe\u001b[0m \u001b[0mcurrent\u001b[0m \u001b[0mbrowser\u001b[0m \u001b[0msession\u001b[0m\u001b[0;34m.\u001b[0m\u001b[0;34m\u001b[0m\u001b[0m\n\u001b[1;32m    332\u001b[0m         \"\"\"\n\u001b[0;32m--> 333\u001b[0;31m         \u001b[0mself\u001b[0m\u001b[0;34m.\u001b[0m\u001b[0mexecute\u001b[0m\u001b[0;34m(\u001b[0m\u001b[0mCommand\u001b[0m\u001b[0;34m.\u001b[0m\u001b[0mGET\u001b[0m\u001b[0;34m,\u001b[0m \u001b[0;34m{\u001b[0m\u001b[0;34m'url'\u001b[0m\u001b[0;34m:\u001b[0m \u001b[0murl\u001b[0m\u001b[0;34m}\u001b[0m\u001b[0;34m)\u001b[0m\u001b[0;34m\u001b[0m\u001b[0m\n\u001b[0m\u001b[1;32m    334\u001b[0m \u001b[0;34m\u001b[0m\u001b[0m\n\u001b[1;32m    335\u001b[0m     \u001b[0;34m@\u001b[0m\u001b[0mproperty\u001b[0m\u001b[0;34m\u001b[0m\u001b[0m\n",
      "\u001b[0;32m~/anaconda3/lib/python3.7/site-packages/selenium/webdriver/remote/webdriver.py\u001b[0m in \u001b[0;36mexecute\u001b[0;34m(self, driver_command, params)\u001b[0m\n\u001b[1;32m    319\u001b[0m         \u001b[0mresponse\u001b[0m \u001b[0;34m=\u001b[0m \u001b[0mself\u001b[0m\u001b[0;34m.\u001b[0m\u001b[0mcommand_executor\u001b[0m\u001b[0;34m.\u001b[0m\u001b[0mexecute\u001b[0m\u001b[0;34m(\u001b[0m\u001b[0mdriver_command\u001b[0m\u001b[0;34m,\u001b[0m \u001b[0mparams\u001b[0m\u001b[0;34m)\u001b[0m\u001b[0;34m\u001b[0m\u001b[0m\n\u001b[1;32m    320\u001b[0m         \u001b[0;32mif\u001b[0m \u001b[0mresponse\u001b[0m\u001b[0;34m:\u001b[0m\u001b[0;34m\u001b[0m\u001b[0m\n\u001b[0;32m--> 321\u001b[0;31m             \u001b[0mself\u001b[0m\u001b[0;34m.\u001b[0m\u001b[0merror_handler\u001b[0m\u001b[0;34m.\u001b[0m\u001b[0mcheck_response\u001b[0m\u001b[0;34m(\u001b[0m\u001b[0mresponse\u001b[0m\u001b[0;34m)\u001b[0m\u001b[0;34m\u001b[0m\u001b[0m\n\u001b[0m\u001b[1;32m    322\u001b[0m             response['value'] = self._unwrap_value(\n\u001b[1;32m    323\u001b[0m                 response.get('value', None))\n",
      "\u001b[0;32m~/anaconda3/lib/python3.7/site-packages/selenium/webdriver/remote/errorhandler.py\u001b[0m in \u001b[0;36mcheck_response\u001b[0;34m(self, response)\u001b[0m\n\u001b[1;32m    240\u001b[0m                 \u001b[0malert_text\u001b[0m \u001b[0;34m=\u001b[0m \u001b[0mvalue\u001b[0m\u001b[0;34m[\u001b[0m\u001b[0;34m'alert'\u001b[0m\u001b[0;34m]\u001b[0m\u001b[0;34m.\u001b[0m\u001b[0mget\u001b[0m\u001b[0;34m(\u001b[0m\u001b[0;34m'text'\u001b[0m\u001b[0;34m)\u001b[0m\u001b[0;34m\u001b[0m\u001b[0m\n\u001b[1;32m    241\u001b[0m             \u001b[0;32mraise\u001b[0m \u001b[0mexception_class\u001b[0m\u001b[0;34m(\u001b[0m\u001b[0mmessage\u001b[0m\u001b[0;34m,\u001b[0m \u001b[0mscreen\u001b[0m\u001b[0;34m,\u001b[0m \u001b[0mstacktrace\u001b[0m\u001b[0;34m,\u001b[0m \u001b[0malert_text\u001b[0m\u001b[0;34m)\u001b[0m\u001b[0;34m\u001b[0m\u001b[0m\n\u001b[0;32m--> 242\u001b[0;31m         \u001b[0;32mraise\u001b[0m \u001b[0mexception_class\u001b[0m\u001b[0;34m(\u001b[0m\u001b[0mmessage\u001b[0m\u001b[0;34m,\u001b[0m \u001b[0mscreen\u001b[0m\u001b[0;34m,\u001b[0m \u001b[0mstacktrace\u001b[0m\u001b[0;34m)\u001b[0m\u001b[0;34m\u001b[0m\u001b[0m\n\u001b[0m\u001b[1;32m    243\u001b[0m \u001b[0;34m\u001b[0m\u001b[0m\n\u001b[1;32m    244\u001b[0m     \u001b[0;32mdef\u001b[0m \u001b[0m_value_or_default\u001b[0m\u001b[0;34m(\u001b[0m\u001b[0mself\u001b[0m\u001b[0;34m,\u001b[0m \u001b[0mobj\u001b[0m\u001b[0;34m,\u001b[0m \u001b[0mkey\u001b[0m\u001b[0;34m,\u001b[0m \u001b[0mdefault\u001b[0m\u001b[0;34m)\u001b[0m\u001b[0;34m:\u001b[0m\u001b[0;34m\u001b[0m\u001b[0m\n",
      "\u001b[0;31mWebDriverException\u001b[0m: Message: TypeError: this.curBrowser.contentBrowser is null\n"
     ]
    }
   ],
   "source": [
    "browser = Firefox(executable_path=\"./geckodriver\") # ./geckodriver тоже вроде можно\n",
    "wait = WebDriverWait(browser, 30, 1)\n",
    "browser.get('https://elibrary.ru/title_items.asp?id=21813')  "
   ]
  },
  {
   "cell_type": "code",
   "execution_count": 32,
   "metadata": {},
   "outputs": [],
   "source": [
    "def get_proxy():\n",
    "    return proxies_list[np.random.randint(0, len(proxies_list))]\n",
    "proxies_list = [{'http':'http://'+i} for i in ['67.149.217.254:10200',\n",
    "                '64.20.74.24:45554','62.37.237.101:8080',\n",
    "                '180.234.206.77:8080',\n",
    "                '78.11.85.13:8080','109.188.81.101:8080',\n",
    "                '139.59.17.113:8080','191.179.147.46:11421',\n",
    "                '111.68.99.42:8080','80.241.219.66:3128',\n",
    "                '201.20.94.106:8080','216.229.120.173:45554',\n",
    "                '116.58.247.31:3128','103.9.115.142:3128',\n",
    "                '82.164.99.193:10200','80.188.79.138:8080',\n",
    "                '36.75.113.224:8080',\n",
    "                '1.20.204.163:8080','97.77.49.151:45554',\n",
    "                '178.54.44.24:8080',\n",
    "                '65.182.136.153:45554', '111.76.129.223:808',\n",
    "                 '203.142.81.205'+':'+'8080', \n",
    "                '42.202.35.185'+':'+'8118', '189.16.249.114'+':'+'8080',\n",
    "                '66.162.122.24'+':'+'8080']]"
   ]
  },
  {
   "cell_type": "code",
   "execution_count": 17,
   "metadata": {},
   "outputs": [],
   "source": [
    "req = requests.get('https://elibrary.ru/item.asp?id=29638928')\n",
    "req = BeautifulSoup(req.content.decode('utf-8'), 'html.parser')\n"
   ]
  },
  {
   "cell_type": "code",
   "execution_count": 63,
   "metadata": {
    "scrolled": false
   },
   "outputs": [
    {
     "data": {
      "text/plain": [
       "'1'"
      ]
     },
     "execution_count": 63,
     "metadata": {},
     "output_type": "execute_result"
    }
   ],
   "source": []
  },
  {
   "cell_type": "code",
   "execution_count": 60,
   "metadata": {},
   "outputs": [],
   "source": [
    "https = \"https://elibrary.ru\"\n",
    "artical_data = {}\n",
    "artical_adresses = []\n",
    "xp_main    = '/html/body/div[3]/table/tbody/tr/td/table[1]/tbody/tr/td[2]/form/table/tbody/tr[2]/td[1]/table/tbody/tr/td/div[6]/table/tbody/tr/td[13]/a'\n",
    "xp_reserve = '/html/body/div[2]/table/tbody/tr/td/table[1]/tbody/tr/td[2]/form/table/tbody/tr[2]/td[1]/table/tbody/tr/td/div[6]/table/tbody/tr/td[13]/a'\n",
    "\n",
    "browser = Firefox(executable_path=\"./geckodriver\") # ./geckodriver тоже вроде можно\n",
    "wait = WebDriverWait(browser, 30, 1)\n",
    "browser.get('https://elibrary.ru/title_items.asp?id=21813')                          # Заходим на первую страницу журнала\n",
    "for i in range(4):\n",
    "    search_form = wait.until(EC.visibility_of_element_located((By.XPATH, xp_main)))\n",
    "    page = BeautifulSoup(browser.page_source, \"html.parser\")                             # Забираем страничку и преобразуем ее в BS\n",
    "    new_id = get_articles_adress(page)                                                   # Собираем со странички все адреса статей\n",
    "    artical_adresses.append(new_id)                                                      # Добавляем адреса в хранилище\n",
    "    search_form.click()                                                                  # Жмякаем на кнопку\n"
   ]
  },
  {
   "cell_type": "code",
   "execution_count": 61,
   "metadata": {
    "scrolled": false
   },
   "outputs": [
    {
     "data": {
      "text/plain": [
       "False"
      ]
     },
     "execution_count": 61,
     "metadata": {},
     "output_type": "execute_result"
    }
   ],
   "source": [
    "artical_adresses[0] == artical_adresses[1]"
   ]
  },
  {
   "cell_type": "code",
   "execution_count": 70,
   "metadata": {},
   "outputs": [
    {
     "data": {
      "text/plain": [
       "'29632444'"
      ]
     },
     "execution_count": 70,
     "metadata": {},
     "output_type": "execute_result"
    }
   ],
   "source": [
    "a= 'https://elibrary.ru/item.asp?id=29632444'\n",
    "a.split('=')[-1]"
   ]
  },
  {
   "cell_type": "code",
   "execution_count": 62,
   "metadata": {
    "scrolled": true
   },
   "outputs": [
    {
     "data": {
      "text/plain": [
       "[['https://elibrary.ru/item.asp?id=30076781',\n",
       "  'https://elibrary.ru/item.asp?id=29640350',\n",
       "  'https://elibrary.ru/item.asp?id=29628631',\n",
       "  'https://elibrary.ru/item.asp?id=29607996',\n",
       "  'https://elibrary.ru/item.asp?id=29629225',\n",
       "  'https://elibrary.ru/item.asp?id=29589627',\n",
       "  'https://elibrary.ru/item.asp?id=29622770',\n",
       "  'https://elibrary.ru/item.asp?id=29613318',\n",
       "  'https://elibrary.ru/item.asp?id=29644770',\n",
       "  'https://elibrary.ru/item.asp?id=29644751',\n",
       "  'https://elibrary.ru/item.asp?id=29700062',\n",
       "  'https://elibrary.ru/item.asp?id=29632444',\n",
       "  'https://elibrary.ru/item.asp?id=29646031',\n",
       "  'https://elibrary.ru/item.asp?id=29646026',\n",
       "  'https://elibrary.ru/item.asp?id=29630080',\n",
       "  'https://elibrary.ru/item.asp?id=29638928',\n",
       "  'https://elibrary.ru/item.asp?id=29694116',\n",
       "  'https://elibrary.ru/item.asp?id=29489054',\n",
       "  'https://elibrary.ru/item.asp?id=29634570',\n",
       "  'https://elibrary.ru/item.asp?id=29640640'],\n",
       " ['https://elibrary.ru/item.asp?id=29640291',\n",
       "  'https://elibrary.ru/item.asp?id=29705691',\n",
       "  'https://elibrary.ru/item.asp?id=29524917',\n",
       "  'https://elibrary.ru/item.asp?id=29588463',\n",
       "  'https://elibrary.ru/item.asp?id=29483014',\n",
       "  'https://elibrary.ru/item.asp?id=29523109',\n",
       "  'https://elibrary.ru/item.asp?id=29626130',\n",
       "  'https://elibrary.ru/item.asp?id=29639832',\n",
       "  'https://elibrary.ru/item.asp?id=29612545',\n",
       "  'https://elibrary.ru/item.asp?id=29642175',\n",
       "  'https://elibrary.ru/item.asp?id=29495248',\n",
       "  'https://elibrary.ru/item.asp?id=29607744',\n",
       "  'https://elibrary.ru/item.asp?id=29630734',\n",
       "  'https://elibrary.ru/item.asp?id=29638157',\n",
       "  'https://elibrary.ru/item.asp?id=29632789',\n",
       "  'https://elibrary.ru/item.asp?id=29638728',\n",
       "  'https://elibrary.ru/item.asp?id=29634696',\n",
       "  'https://elibrary.ru/item.asp?id=29630589',\n",
       "  'https://elibrary.ru/item.asp?id=29703313',\n",
       "  'https://elibrary.ru/item.asp?id=29622819'],\n",
       " ['https://elibrary.ru/item.asp?id=29493019',\n",
       "  'https://elibrary.ru/item.asp?id=29610253',\n",
       "  'https://elibrary.ru/item.asp?id=29622969',\n",
       "  'https://elibrary.ru/item.asp?id=29641603',\n",
       "  'https://elibrary.ru/item.asp?id=29639779',\n",
       "  'https://elibrary.ru/item.asp?id=29642123',\n",
       "  'https://elibrary.ru/item.asp?id=29614038',\n",
       "  'https://elibrary.ru/item.asp?id=29613538',\n",
       "  'https://elibrary.ru/item.asp?id=29642286',\n",
       "  'https://elibrary.ru/item.asp?id=29630919',\n",
       "  'https://elibrary.ru/item.asp?id=29614559',\n",
       "  'https://elibrary.ru/item.asp?id=29495129',\n",
       "  'https://elibrary.ru/item.asp?id=29643140',\n",
       "  'https://elibrary.ru/item.asp?id=29617675',\n",
       "  'https://elibrary.ru/item.asp?id=29645183',\n",
       "  'https://elibrary.ru/item.asp?id=29614359',\n",
       "  'https://elibrary.ru/item.asp?id=29634096',\n",
       "  'https://elibrary.ru/item.asp?id=29634936',\n",
       "  'https://elibrary.ru/item.asp?id=29704609',\n",
       "  'https://elibrary.ru/item.asp?id=29626040'],\n",
       " ['https://elibrary.ru/item.asp?id=29589871',\n",
       "  'https://elibrary.ru/item.asp?id=29626323',\n",
       "  'https://elibrary.ru/item.asp?id=29629655',\n",
       "  'https://elibrary.ru/item.asp?id=29501056',\n",
       "  'https://elibrary.ru/item.asp?id=29640304',\n",
       "  'https://elibrary.ru/item.asp?id=29629800',\n",
       "  'https://elibrary.ru/item.asp?id=29642406',\n",
       "  'https://elibrary.ru/item.asp?id=29646486',\n",
       "  'https://elibrary.ru/item.asp?id=29630823',\n",
       "  'https://elibrary.ru/item.asp?id=29639816',\n",
       "  'https://elibrary.ru/item.asp?id=29644962',\n",
       "  'https://elibrary.ru/item.asp?id=29609905',\n",
       "  'https://elibrary.ru/item.asp?id=29589441',\n",
       "  'https://elibrary.ru/item.asp?id=29634285',\n",
       "  'https://elibrary.ru/item.asp?id=29611629',\n",
       "  'https://elibrary.ru/item.asp?id=29611692',\n",
       "  'https://elibrary.ru/item.asp?id=29608232',\n",
       "  'https://elibrary.ru/item.asp?id=29635039',\n",
       "  'https://elibrary.ru/item.asp?id=29609647',\n",
       "  'https://elibrary.ru/item.asp?id=29589902']]"
      ]
     },
     "execution_count": 62,
     "metadata": {},
     "output_type": "execute_result"
    }
   ],
   "source": [
    "artical_adresses"
   ]
  },
  {
   "cell_type": "code",
   "execution_count": 63,
   "metadata": {},
   "outputs": [
    {
     "data": {
      "text/plain": [
       "4"
      ]
     },
     "execution_count": 63,
     "metadata": {},
     "output_type": "execute_result"
    }
   ],
   "source": [
    "len(artical_adresses)"
   ]
  },
  {
   "cell_type": "code",
   "execution_count": 12,
   "metadata": {},
   "outputs": [],
   "source": [
    "xp  = '/html/body/div[3]/table/tbody/tr/td/table[1]/tbody/tr/td[2]/form/table/tbody/tr[2]/td[1]/table/tbody/tr/td/div[6]/table/tbody/tr/td[13]/a'\n",
    "xp1 = '/html/body/div[2]/table/tbody/tr/td/table[1]/tbody/tr/td[2]/form/table/tbody/tr[2]/td[1]/table/tbody/tr/td/div[6]/table/tbody/tr/td[13]/a'\n",
    "xp2 = '/html/body/div[3]/table/tbody/tr/td/table[1]/tbody/tr/td[2]/form/table/tbody/tr[2]/td[1]/table/tbody/tr/td/div[6]/table/tbody/tr/td[13]/a'\n",
    "xp3 = '/html/body/div[3]/table/tbody/tr/td/table[1]/tbody/tr/td[2]/form/table/tbody/tr[2]/td[1]/table/tbody/tr/td/div[6]/table/tbody/tr/td[13]/a'\n",
    "xp4 = '/html/body/div[3]/table/tbody/tr/td/table[1]/tbody/tr/td[2]/form/table/tbody/tr[2]/td[1]/table/tbody/tr/td/div[6]/table/tbody/tr/td[13]/a'\n",
    "xp5 = '/html/body/div[3]/table/tbody/tr/td/table[1]/tbody/tr/td[2]/form/table/tbody/tr[2]/td[1]/table/tbody/tr/td/div[6]/table/tbody/tr/td[13]/a'\n",
    "xp6 = '/html/body/div[3]/table/tbody/tr/td/table[1]/tbody/tr/td[2]/form/table/tbody/tr[2]/td[1]/table/tbody/tr/td/div[6]/table/tbody/tr/td[13]/a'\n",
    "xp7 = '/html/body/div[3]/table/tbody/tr/td/table[1]/tbody/tr/td[2]/form/table/tbody/tr[2]/td[1]/table/tbody/tr/td/div[6]/table/tbody/tr/td[13]/a'\n",
    "xp8 = '/html/body/div[3]/table/tbody/tr/td/table[1]/tbody/tr/td[2]/form/table/tbody/tr[2]/td[1]/table/tbody/tr/td/div[6]/table/tbody/tr/td[13]/a'"
   ]
  },
  {
   "cell_type": "code",
   "execution_count": 13,
   "metadata": {},
   "outputs": [
    {
     "data": {
      "text/plain": [
       "True"
      ]
     },
     "execution_count": 13,
     "metadata": {},
     "output_type": "execute_result"
    }
   ],
   "source": [
    "xp8 == xp"
   ]
  },
  {
   "cell_type": "code",
   "execution_count": 66,
   "metadata": {},
   "outputs": [
    {
     "name": "stdout",
     "output_type": "stream",
     "text": [
      "Press:  /html/body/div[3]/table/tbody/tr/td/table[1]/tbody/tr/td[2]/form/table/tbody/tr[2]/td[1]/table/tbody/tr/td/div[6]/table/tbody/tr/td[13]/a\n",
      "I found next id:  ['https://elibrary.ru/item.asp?id=29601180', 'https://elibrary.ru/item.asp?id=29578204', 'https://elibrary.ru/item.asp?id=29604436', 'https://elibrary.ru/item.asp?id=29604192', 'https://elibrary.ru/item.asp?id=29630077', 'https://elibrary.ru/item.asp?id=29578370', 'https://elibrary.ru/item.asp?id=29558918', 'https://elibrary.ru/item.asp?id=29586568', 'https://elibrary.ru/item.asp?id=29558963', 'https://elibrary.ru/item.asp?id=29630375', 'https://elibrary.ru/item.asp?id=29586795', 'https://elibrary.ru/item.asp?id=29611932', 'https://elibrary.ru/item.asp?id=29615458', 'https://elibrary.ru/item.asp?id=29619415', 'https://elibrary.ru/item.asp?id=29598136', 'https://elibrary.ru/item.asp?id=29565977', 'https://elibrary.ru/item.asp?id=29638232', 'https://elibrary.ru/item.asp?id=29592135', 'https://elibrary.ru/item.asp?id=29592355', 'https://elibrary.ru/item.asp?id=29613309']\n"
     ]
    }
   ],
   "source": [
    "\n",
    "print('I found next id: ', new_id)\n",
    "#     except:\n",
    "#         print('Just forget it')\n",
    "# #     for adress in artical_adresses:\n",
    "# #         d = find_data(adress)\n",
    "# #         artical_data[d[1]] = [d[0], d[2]]\n",
    "    "
   ]
  },
  {
   "cell_type": "code",
   "execution_count": 32,
   "metadata": {
    "scrolled": true
   },
   "outputs": [
    {
     "name": "stdout",
     "output_type": "stream",
     "text": [
      "I found next id:  ['https://elibrary.ru/item.asp?id=29621052', 'https://elibrary.ru/item.asp?id=29569074', 'https://elibrary.ru/item.asp?id=29613213', 'https://elibrary.ru/item.asp?id=29599695', 'https://elibrary.ru/item.asp?id=29639343', 'https://elibrary.ru/item.asp?id=29607042', 'https://elibrary.ru/item.asp?id=29643122', 'https://elibrary.ru/item.asp?id=29700189', 'https://elibrary.ru/item.asp?id=29478497', 'https://elibrary.ru/item.asp?id=29631769', 'https://elibrary.ru/item.asp?id=29579757', 'https://elibrary.ru/item.asp?id=29631798', 'https://elibrary.ru/item.asp?id=29689105', 'https://elibrary.ru/item.asp?id=29593485', 'https://elibrary.ru/item.asp?id=29639238', 'https://elibrary.ru/item.asp?id=29621076', 'https://elibrary.ru/item.asp?id=29600301', 'https://elibrary.ru/item.asp?id=29625780', 'https://elibrary.ru/item.asp?id=29601471', 'https://elibrary.ru/item.asp?id=29594806']\n",
      "Press:  /html/body/div[3]/table/tbody/tr/td/table[1]/tbody/tr/td[2]/form/table/tbody/tr[2]/td[1]/table/tbody/tr/td/div[6]/table/tbody/tr/td[5]/a\n",
      "I'm on page 2\n",
      "I found next id:  ['https://elibrary.ru/item.asp?id=29621052', 'https://elibrary.ru/item.asp?id=29569074', 'https://elibrary.ru/item.asp?id=29613213', 'https://elibrary.ru/item.asp?id=29599695', 'https://elibrary.ru/item.asp?id=29639343', 'https://elibrary.ru/item.asp?id=29607042', 'https://elibrary.ru/item.asp?id=29643122', 'https://elibrary.ru/item.asp?id=29700189', 'https://elibrary.ru/item.asp?id=29478497', 'https://elibrary.ru/item.asp?id=29631769', 'https://elibrary.ru/item.asp?id=29579757', 'https://elibrary.ru/item.asp?id=29631798', 'https://elibrary.ru/item.asp?id=29689105', 'https://elibrary.ru/item.asp?id=29593485', 'https://elibrary.ru/item.asp?id=29639238', 'https://elibrary.ru/item.asp?id=29621076', 'https://elibrary.ru/item.asp?id=29600301', 'https://elibrary.ru/item.asp?id=29625780', 'https://elibrary.ru/item.asp?id=29601471', 'https://elibrary.ru/item.asp?id=29594806']\n",
      "Press:  /html/body/div[3]/table/tbody/tr/td/table[1]/tbody/tr/td[2]/form/table/tbody/tr[2]/td[1]/table/tbody/tr/td/div[6]/table/tbody/tr/td[6]/a\n",
      "Just forget it\n",
      "Press:  /html/body/div[3]/table/tbody/tr/td/table[1]/tbody/tr/td[2]/form/table/tbody/tr[2]/td[1]/table/tbody/tr/td/div[6]/table/tbody/tr/td[7]/a\n",
      "Just forget it\n"
     ]
    }
   ],
   "source": [
    "for page_num in range(4, 7):\n",
    "    sleep(2 * np.random.random())\n",
    "    xp = '/html/body/div[3]/table/tbody/tr/td/table[1]/tbody/tr/td[2]/form/table/tbody/tr[2]/td[1]/table/tbody/tr/td/div[6]/table/tbody/tr/td[' + str(page_num+1) + ']/a'\n",
    "    try:\n",
    "        print(\"Press: \", xp)\n",
    "        search_form = browser.find_element_by_xpath(xp)\n",
    "        search_form.send_keys(Keys.ENTER)\n",
    "        print(\"I'm on page {}\".format(page_num-2))\n",
    "        page = BeautifulSoup(browser.page_source, \"html.parser\")\n",
    "        new_id = get_articles_adress(page)\n",
    "        artical_adresses.append(new_id)\n",
    "        print('I found next id: ', new_id)\n",
    "    except:\n",
    "        print('Just forget it')\n",
    "#     for adress in artical_adresses:\n",
    "#         d = find_data(adress)\n",
    "#         artical_data[d[1]] = [d[0], d[2]]\n",
    "    "
   ]
  },
  {
   "cell_type": "code",
   "execution_count": 28,
   "metadata": {},
   "outputs": [
    {
     "data": {
      "text/plain": [
       "str"
      ]
     },
     "execution_count": 28,
     "metadata": {},
     "output_type": "execute_result"
    }
   ],
   "source": [
    "type(browser.page_source)"
   ]
  },
  {
   "cell_type": "code",
   "execution_count": 22,
   "metadata": {},
   "outputs": [
    {
     "data": {
      "text/plain": [
       "bs4.BeautifulSoup"
      ]
     },
     "execution_count": 22,
     "metadata": {},
     "output_type": "execute_result"
    }
   ],
   "source": [
    "type(page)"
   ]
  },
  {
   "cell_type": "code",
   "execution_count": 29,
   "metadata": {},
   "outputs": [
    {
     "data": {
      "text/plain": [
       "[['https://elibrary.ru/item.asp?id=29621052',\n",
       "  'https://elibrary.ru/item.asp?id=29569074',\n",
       "  'https://elibrary.ru/item.asp?id=29613213',\n",
       "  'https://elibrary.ru/item.asp?id=29599695',\n",
       "  'https://elibrary.ru/item.asp?id=29639343',\n",
       "  'https://elibrary.ru/item.asp?id=29607042',\n",
       "  'https://elibrary.ru/item.asp?id=29643122',\n",
       "  'https://elibrary.ru/item.asp?id=29700189',\n",
       "  'https://elibrary.ru/item.asp?id=29478497',\n",
       "  'https://elibrary.ru/item.asp?id=29631769',\n",
       "  'https://elibrary.ru/item.asp?id=29579757',\n",
       "  'https://elibrary.ru/item.asp?id=29631798',\n",
       "  'https://elibrary.ru/item.asp?id=29689105',\n",
       "  'https://elibrary.ru/item.asp?id=29593485',\n",
       "  'https://elibrary.ru/item.asp?id=29639238',\n",
       "  'https://elibrary.ru/item.asp?id=29621076',\n",
       "  'https://elibrary.ru/item.asp?id=29600301',\n",
       "  'https://elibrary.ru/item.asp?id=29625780',\n",
       "  'https://elibrary.ru/item.asp?id=29601471',\n",
       "  'https://elibrary.ru/item.asp?id=29594806'],\n",
       " [],\n",
       " ['https://elibrary.ru/item.asp?id=29621052',\n",
       "  'https://elibrary.ru/item.asp?id=29569074',\n",
       "  'https://elibrary.ru/item.asp?id=29613213',\n",
       "  'https://elibrary.ru/item.asp?id=29599695',\n",
       "  'https://elibrary.ru/item.asp?id=29639343',\n",
       "  'https://elibrary.ru/item.asp?id=29607042',\n",
       "  'https://elibrary.ru/item.asp?id=29643122',\n",
       "  'https://elibrary.ru/item.asp?id=29700189',\n",
       "  'https://elibrary.ru/item.asp?id=29478497',\n",
       "  'https://elibrary.ru/item.asp?id=29631769',\n",
       "  'https://elibrary.ru/item.asp?id=29579757',\n",
       "  'https://elibrary.ru/item.asp?id=29631798',\n",
       "  'https://elibrary.ru/item.asp?id=29689105',\n",
       "  'https://elibrary.ru/item.asp?id=29593485',\n",
       "  'https://elibrary.ru/item.asp?id=29639238',\n",
       "  'https://elibrary.ru/item.asp?id=29621076',\n",
       "  'https://elibrary.ru/item.asp?id=29600301',\n",
       "  'https://elibrary.ru/item.asp?id=29625780',\n",
       "  'https://elibrary.ru/item.asp?id=29601471',\n",
       "  'https://elibrary.ru/item.asp?id=29594806'],\n",
       " ['https://elibrary.ru/item.asp?id=29621052',\n",
       "  'https://elibrary.ru/item.asp?id=29569074',\n",
       "  'https://elibrary.ru/item.asp?id=29613213',\n",
       "  'https://elibrary.ru/item.asp?id=29599695',\n",
       "  'https://elibrary.ru/item.asp?id=29639343',\n",
       "  'https://elibrary.ru/item.asp?id=29607042',\n",
       "  'https://elibrary.ru/item.asp?id=29643122',\n",
       "  'https://elibrary.ru/item.asp?id=29700189',\n",
       "  'https://elibrary.ru/item.asp?id=29478497',\n",
       "  'https://elibrary.ru/item.asp?id=29631769',\n",
       "  'https://elibrary.ru/item.asp?id=29579757',\n",
       "  'https://elibrary.ru/item.asp?id=29631798',\n",
       "  'https://elibrary.ru/item.asp?id=29689105',\n",
       "  'https://elibrary.ru/item.asp?id=29593485',\n",
       "  'https://elibrary.ru/item.asp?id=29639238',\n",
       "  'https://elibrary.ru/item.asp?id=29621076',\n",
       "  'https://elibrary.ru/item.asp?id=29600301',\n",
       "  'https://elibrary.ru/item.asp?id=29625780',\n",
       "  'https://elibrary.ru/item.asp?id=29601471',\n",
       "  'https://elibrary.ru/item.asp?id=29594806'],\n",
       " ['https://elibrary.ru/item.asp?id=29621052',\n",
       "  'https://elibrary.ru/item.asp?id=29569074',\n",
       "  'https://elibrary.ru/item.asp?id=29613213',\n",
       "  'https://elibrary.ru/item.asp?id=29599695',\n",
       "  'https://elibrary.ru/item.asp?id=29639343',\n",
       "  'https://elibrary.ru/item.asp?id=29607042',\n",
       "  'https://elibrary.ru/item.asp?id=29643122',\n",
       "  'https://elibrary.ru/item.asp?id=29700189',\n",
       "  'https://elibrary.ru/item.asp?id=29478497',\n",
       "  'https://elibrary.ru/item.asp?id=29631769',\n",
       "  'https://elibrary.ru/item.asp?id=29579757',\n",
       "  'https://elibrary.ru/item.asp?id=29631798',\n",
       "  'https://elibrary.ru/item.asp?id=29689105',\n",
       "  'https://elibrary.ru/item.asp?id=29593485',\n",
       "  'https://elibrary.ru/item.asp?id=29639238',\n",
       "  'https://elibrary.ru/item.asp?id=29621076',\n",
       "  'https://elibrary.ru/item.asp?id=29600301',\n",
       "  'https://elibrary.ru/item.asp?id=29625780',\n",
       "  'https://elibrary.ru/item.asp?id=29601471',\n",
       "  'https://elibrary.ru/item.asp?id=29594806'],\n",
       " ['https://elibrary.ru/item.asp?id=29621052',\n",
       "  'https://elibrary.ru/item.asp?id=29569074',\n",
       "  'https://elibrary.ru/item.asp?id=29613213',\n",
       "  'https://elibrary.ru/item.asp?id=29599695',\n",
       "  'https://elibrary.ru/item.asp?id=29639343',\n",
       "  'https://elibrary.ru/item.asp?id=29607042',\n",
       "  'https://elibrary.ru/item.asp?id=29643122',\n",
       "  'https://elibrary.ru/item.asp?id=29700189',\n",
       "  'https://elibrary.ru/item.asp?id=29478497',\n",
       "  'https://elibrary.ru/item.asp?id=29631769',\n",
       "  'https://elibrary.ru/item.asp?id=29579757',\n",
       "  'https://elibrary.ru/item.asp?id=29631798',\n",
       "  'https://elibrary.ru/item.asp?id=29689105',\n",
       "  'https://elibrary.ru/item.asp?id=29593485',\n",
       "  'https://elibrary.ru/item.asp?id=29639238',\n",
       "  'https://elibrary.ru/item.asp?id=29621076',\n",
       "  'https://elibrary.ru/item.asp?id=29600301',\n",
       "  'https://elibrary.ru/item.asp?id=29625780',\n",
       "  'https://elibrary.ru/item.asp?id=29601471',\n",
       "  'https://elibrary.ru/item.asp?id=29594806']]"
      ]
     },
     "execution_count": 29,
     "metadata": {},
     "output_type": "execute_result"
    }
   ],
   "source": [
    "artical_adresses"
   ]
  },
  {
   "cell_type": "code",
   "execution_count": 8,
   "metadata": {},
   "outputs": [
    {
     "data": {
      "text/plain": [
       "20"
      ]
     },
     "execution_count": 8,
     "metadata": {},
     "output_type": "execute_result"
    }
   ],
   "source": [
    "len(artical_data)"
   ]
  }
 ],
 "metadata": {
  "kernelspec": {
   "display_name": "Python 3",
   "language": "python",
   "name": "python3"
  },
  "language_info": {
   "codemirror_mode": {
    "name": "ipython",
    "version": 3
   },
   "file_extension": ".py",
   "mimetype": "text/x-python",
   "name": "python",
   "nbconvert_exporter": "python",
   "pygments_lexer": "ipython3",
   "version": "3.7.0"
  }
 },
 "nbformat": 4,
 "nbformat_minor": 2
}
