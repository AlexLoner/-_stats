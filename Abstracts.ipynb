{
 "cells": [
  {
   "cell_type": "code",
   "execution_count": 99,
   "metadata": {},
   "outputs": [],
   "source": [
    "import pandas as pd\n",
    "import numpy as np\n",
    "import annoy\n",
    "import nltk\n",
    "import re\n",
    "from gensim.models import word2vec\n",
    "from sklearn import metrics\n",
    "from sklearn.metrics import mean_squared_error\n",
    "from sklearn.model_selection import train_test_split, GridSearchCV\n",
    "from nltk.stem.porter import PorterStemmer\n",
    "from nltk.corpus import stopwords\n",
    "from sklearn.feature_extraction.text import TfidfVectorizer"
   ]
  },
  {
   "cell_type": "code",
   "execution_count": 100,
   "metadata": {},
   "outputs": [],
   "source": [
    "data = pd.read_csv('data', sep='@')\n",
    "vect_len = 500"
   ]
  },
  {
   "cell_type": "code",
   "execution_count": 101,
   "metadata": {},
   "outputs": [],
   "source": [
    "# train on 2015 and 2016, test on 2018\n",
    "# ex = pd.concat((data[data.Year == 2016], data[data.Year == 2015], data[data.Year == 2014]), axis=0, ignore_index=True)\n",
    "ex = data.copy()\n",
    "# test = data[data.Year == 2018]\n",
    "ex = ex.dropna()"
   ]
  },
  {
   "cell_type": "code",
   "execution_count": 102,
   "metadata": {},
   "outputs": [],
   "source": [
    "stops = set(stopwords.words(\"english\"))\n",
    "lem = PorterStemmer()\n",
    "def convert(abstract):\n",
    "    '''Преобразует текст для w2v'''\n",
    "    text = re.sub(\"[^a-z.!?]\",\" \", abstract)\n",
    "    words = text.lower().split()\n",
    "    words = [w for w in words if not w in stops and len(w) >= 1]\n",
    "#     words = [lem.stem(w) for w in words ]\n",
    "    return ' '.join(words)"
   ]
  },
  {
   "cell_type": "code",
   "execution_count": 103,
   "metadata": {},
   "outputs": [],
   "source": [
    "ex['cl_abst'] = ex.Abstract.apply(convert)\n"
   ]
  },
  {
   "cell_type": "code",
   "execution_count": 104,
   "metadata": {},
   "outputs": [],
   "source": [
    "tokenizer = nltk.data.load('tokenizers/punkt/english.pickle')\n",
    "def tok_abstr(abstr, tokenizer):\n",
    "    return [ s.replace('.', '') for s in tokenizer.tokenize(abstr.strip())]\n",
    "sentences  = [sent.replace('.', '').split() for row in ex.cl_abst for sent in tok_abstr(row, tokenizer) if len(sent) >= 1]\n",
    "model = word2vec.Word2Vec(sentences, size=vect_len, window=20, workers=4)\n",
    "\n",
    "ex['new'] = ex.cl_abst.apply(lambda x : tok_abstr(x, tokenizer))\n",
    "words = set(model.wv.index2word)"
   ]
  },
  {
   "cell_type": "code",
   "execution_count": 105,
   "metadata": {},
   "outputs": [
    {
     "name": "stderr",
     "output_type": "stream",
     "text": [
      "/home/alex/anaconda3/lib/python3.6/site-packages/ipykernel_launcher.py:1: DeprecationWarning: Call to deprecated `syn0` (Attribute will be removed in 4.0.0, use self.wv.vectors instead).\n",
      "  \"\"\"Entry point for launching an IPython kernel.\n"
     ]
    }
   ],
   "source": [
    "w2v = dict(zip(model.wv.index2word, model.wv.syn0))"
   ]
  },
  {
   "cell_type": "code",
   "execution_count": null,
   "metadata": {},
   "outputs": [],
   "source": [
    "def avg_single_sentence(snt, words, model, size, vect, tfidf):\n",
    "    vector = np.zeros(size)\n",
    "    counter = 0\n",
    "    for w in snt:\n",
    "        if w in words:\n",
    "            vector += model[w]\n",
    "            counter += 1\n",
    "    return vector / counter"
   ]
  },
  {
   "cell_type": "code",
   "execution_count": null,
   "metadata": {},
   "outputs": [],
   "source": [
    "vect = TfidfVectorizer(stop_words='english', ngram_range=(1,2))\n",
    "tfidf = vect.fit_transform(ex.cl_abst)\n",
    "true_weigth = lambda x : max(tfidf[:, x]).todense() * np.log10(tfidf.shape[0] / tfidf[:, x].count_nonzero())\n",
    "weight = {}\n",
    "idx = 0\n",
    "for w in vect.get_feature_names():\n",
    "    weight[w] = true_weigth(idx)\n"
   ]
  },
  {
   "cell_type": "code",
   "execution_count": 43,
   "metadata": {},
   "outputs": [
    {
     "data": {
      "text/plain": [
       "True"
      ]
     },
     "execution_count": 43,
     "metadata": {},
     "output_type": "execute_result"
    }
   ],
   "source": [
    "# ex['vectors'] = ex.new.apply(lambda x : avg_single_sentence(x, words, model, vect_len))\n",
    "# ex['vectors'] = pd.DataFrame(data_mean,columns=['vectors'])\n",
    "test = ['dark', 'matter', 'gravity', 'field',  'repulsion']\n",
    "\n",
    "vec = tfidf_vectorizer(w2v).fit(test).transform(test)\n",
    "\n",
    "vect_len = vect_len\n",
    "t = annoy.AnnoyIndex(vect_len)\n",
    "for i, v in enumerate(data_mean):\n",
    "    t.add_item(i, v)\n",
    "t.build(20)\n"
   ]
  },
  {
   "cell_type": "code",
   "execution_count": 44,
   "metadata": {},
   "outputs": [
    {
     "ename": "IndexError",
     "evalue": "Vector has wrong length (expected 500, got 5)",
     "output_type": "error",
     "traceback": [
      "\u001b[0;31m---------------------------------------------------------------------------\u001b[0m",
      "\u001b[0;31mIndexError\u001b[0m                                Traceback (most recent call last)",
      "\u001b[0;32m<ipython-input-44-7236ba74a15f>\u001b[0m in \u001b[0;36m<module>\u001b[0;34m\u001b[0m\n\u001b[0;32m----> 1\u001b[0;31m \u001b[0mt\u001b[0m\u001b[0;34m.\u001b[0m\u001b[0mget_nns_by_vector\u001b[0m\u001b[0;34m(\u001b[0m\u001b[0mvec\u001b[0m\u001b[0;34m,\u001b[0m \u001b[0;36m10\u001b[0m\u001b[0;34m,\u001b[0m \u001b[0minclude_distances\u001b[0m\u001b[0;34m=\u001b[0m\u001b[0;32mTrue\u001b[0m\u001b[0;34m)\u001b[0m\u001b[0;34m\u001b[0m\u001b[0m\n\u001b[0m",
      "\u001b[0;31mIndexError\u001b[0m: Vector has wrong length (expected 500, got 5)"
     ]
    }
   ],
   "source": [
    "t.get_nns_by_vector(vec, 10, include_distances=True)"
   ]
  },
  {
   "cell_type": "code",
   "execution_count": 123,
   "metadata": {},
   "outputs": [
    {
     "data": {
      "text/plain": [
       "'https://elibrary.ru/item.asp?id=24043443'"
      ]
     },
     "execution_count": 123,
     "metadata": {},
     "output_type": "execute_result"
    }
   ],
   "source": [
    "ex.Link[2139]"
   ]
  },
  {
   "cell_type": "code",
   "execution_count": 46,
   "metadata": {},
   "outputs": [
    {
     "data": {
      "text/plain": [
       "(5, 500)"
      ]
     },
     "execution_count": 46,
     "metadata": {},
     "output_type": "execute_result"
    }
   ],
   "source": [
    "vec.shape"
   ]
  },
  {
   "cell_type": "code",
   "execution_count": null,
   "metadata": {},
   "outputs": [],
   "source": []
  }
 ],
 "metadata": {
  "kernelspec": {
   "display_name": "Python 3",
   "language": "python",
   "name": "python3"
  },
  "language_info": {
   "codemirror_mode": {
    "name": "ipython",
    "version": 3
   },
   "file_extension": ".py",
   "mimetype": "text/x-python",
   "name": "python",
   "nbconvert_exporter": "python",
   "pygments_lexer": "ipython3",
   "version": "3.6.6"
  }
 },
 "nbformat": 4,
 "nbformat_minor": 2
}
