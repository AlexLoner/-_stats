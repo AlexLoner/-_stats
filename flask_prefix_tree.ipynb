{
 "cells": [
  {
   "cell_type": "code",
   "execution_count": 608,
   "metadata": {},
   "outputs": [
    {
     "name": "stdout",
     "output_type": "stream",
     "text": [
      "Overwriting flask_prefix_tree.py\n"
     ]
    }
   ],
   "source": [
    "%%writefile flask_prefix_tree.py\n",
    "from flask import Flask, request, jsonify, g\n",
    "import json\n",
    "import pandas as pd\n",
    "import re\n",
    "\n",
    "app = Flask(__name__)\n",
    "class PrefixTree:\n",
    "    \n",
    "    def __init__(self):\n",
    "        self.tree = [{}]\n",
    "    \n",
    "    def insert(self, key):\n",
    "        '''\n",
    "        Добавляет key в дерево\n",
    "        '''\n",
    "        if not self.check(key):\n",
    "            mas = self.tree\n",
    "            for i in key:\n",
    "                if i in mas[0]:\n",
    "                    mas = mas[0][i]\n",
    "                else:\n",
    "                    mas[0][i] = [{}]\n",
    "                    mas = mas[0][i]\n",
    "            mas.append(1)\n",
    "    \n",
    "    def check(self, key, check_only=True):\n",
    "        '''Проверяет присутствует ли  строка в дереве. Если increase = True Увеличивает число обращаение по данной строке на 1'''\n",
    "        mas = self.tree\n",
    "        for i in key:\n",
    "            if i not in mas[0]:\n",
    "                return False\n",
    "            else:\n",
    "                mas = mas[0][i]\n",
    "        if len(mas) != 1:\n",
    "            mas[1] += 1\n",
    "            return True if check_only else (True, mas[1])\n",
    "        else:\n",
    "            return False\n",
    "\n",
    "    def check_part(self, key):\n",
    "        '''Проверяет наличие подстроки в дереве'''\n",
    "        mas = self.tree\n",
    "        for i in key:\n",
    "            if i not in mas[0]:\n",
    "                return False\n",
    "            else:\n",
    "                mas = mas[0][i]\n",
    "        return True \n",
    "\n",
    "    \n",
    "    def top_10(self, key):\n",
    "        \n",
    "        def f(m, key):\n",
    "            num = 0\n",
    "            w = ''\n",
    "            top = {}\n",
    "            for i in m[0]:\n",
    "                if self.check(key + i):\n",
    "                    num = m[0][i][1]\n",
    "                    w = key + i\n",
    "                temp = f(m[0][i], key + i)\n",
    "                if temp != (0, ''):\n",
    "                    d[temp[1]] = temp[0]\n",
    "            return num, w\n",
    "        m = self.tree\n",
    "        for i in key:\n",
    "            m = m[0][i]\n",
    "        d = dict()\n",
    "        f(m, key)\n",
    "        top = [(v, k) for k, v in d.items()]\n",
    "        top.sort(reverse=True)\n",
    "        return top[:10]\n",
    "            \n",
    "            \n",
    "def init_prefix_tree(filename):\n",
    "    #TODO в данном методе загружаем данные из файла. Предположим вормат файла \"Строка, чтобы положить в дерево\" \\t \"json значение для ноды\" \\t частота встречаемости\n",
    "    filename = 'data'\n",
    "    data = pd.read_csv(filename, sep=\"@\")\n",
    "    baobab = PrefixTree()\n",
    "    for sets in [data.Abstract, data.Title]:\n",
    "        for row in sets:\n",
    "            items = re.findall('[a-zA-Z]+', row) # Оставляем только буквы\n",
    "            for item in items:\n",
    "                if len(item) > 3:\n",
    "                    baobab.insert(item.lower())\n",
    "    return baobab\n",
    "\n",
    "\n",
    "@app.route(\"/get_sudgest/<string>\", methods=['GET', 'POST'])\n",
    "def return_sudgest(string):\n",
    "    #TODO по запросу string вернуть json, c топ-10 саджестами, и значениями из нод  \n",
    "    tree = init_prefix_tree('data')\n",
    "    try: \n",
    "        res = tree.top_10(string)\n",
    "    except: \n",
    "        res = \"Nothing was found\"\n",
    "    return json.dumps(res)\n",
    "\n",
    "@app.route(\"/\")\n",
    "def hello():\n",
    "    return 'Hi there. Try ~/get_sudgest/<string>'\n",
    "    \n",
    "if __name__ == \"__main__\":\n",
    "    app.run()"
   ]
  },
  {
   "cell_type": "code",
   "execution_count": 579,
   "metadata": {},
   "outputs": [],
   "source": [
    "pr_tree = PrefixTree()\n",
    "pr_tree.insert(\"строка\")\n",
    "assert pr_tree.check(\"строка\")\n",
    "assert not pr_tree.check(\"строк\")\n",
    "assert not pr_tree.check(\"строка1\")\n",
    "assert pr_tree.check_part(\"стро\")"
   ]
  },
  {
   "cell_type": "code",
   "execution_count": 599,
   "metadata": {},
   "outputs": [],
   "source": [
    "g = init_prefix_tree('data')"
   ]
  },
  {
   "cell_type": "code",
   "execution_count": 602,
   "metadata": {},
   "outputs": [
    {
     "data": {
      "text/plain": [
       "<__main__.PrefixTree at 0x7fe02e9f2908>"
      ]
     },
     "execution_count": 602,
     "metadata": {},
     "output_type": "execute_result"
    }
   ],
   "source": [
    "g"
   ]
  },
  {
   "cell_type": "code",
   "execution_count": 601,
   "metadata": {},
   "outputs": [
    {
     "data": {
      "text/plain": [
       "[(947, 'phase'),\n",
       " (561, 'properties'),\n",
       " (467, 'plasma'),\n",
       " (449, 'particles'),\n",
       " (406, 'parameters'),\n",
       " (325, 'pressure'),\n",
       " (309, 'potential'),\n",
       " (291, 'particle'),\n",
       " (288, 'proposed'),\n",
       " (271, 'polarization')]"
      ]
     },
     "execution_count": 601,
     "metadata": {},
     "output_type": "execute_result"
    }
   ],
   "source": [
    "g.top_10('p')"
   ]
  },
  {
   "cell_type": "code",
   "execution_count": null,
   "metadata": {},
   "outputs": [],
   "source": []
  }
 ],
 "metadata": {
  "kernelspec": {
   "display_name": "Python 3",
   "language": "python",
   "name": "python3"
  },
  "language_info": {
   "codemirror_mode": {
    "name": "ipython",
    "version": 3
   },
   "file_extension": ".py",
   "mimetype": "text/x-python",
   "name": "python",
   "nbconvert_exporter": "python",
   "pygments_lexer": "ipython3",
   "version": "3.7.0"
  }
 },
 "nbformat": 4,
 "nbformat_minor": 2
}
