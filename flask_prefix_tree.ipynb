{
 "cells": [
  {
   "cell_type": "code",
   "execution_count": null,
   "metadata": {},
   "outputs": [
    {
     "name": "stdout",
     "output_type": "stream",
     "text": [
      " * Serving Flask app \"__main__\" (lazy loading)\n",
      " * Environment: production\n",
      "   WARNING: Do not use the development server in a production environment.\n",
      "   Use a production WSGI server instead.\n",
      " * Debug mode: off\n"
     ]
    },
    {
     "name": "stderr",
     "output_type": "stream",
     "text": [
      " * Running on http://127.0.0.1:5000/ (Press CTRL+C to quit)\n",
      "127.0.0.1 - - [24/Nov/2018 02:42:31] \"GET /get_sudgest/quantum HTTP/1.1\" 200 -\n"
     ]
    },
    {
     "name": "stdout",
     "output_type": "stream",
     "text": [
      "['quantum']\n"
     ]
    }
   ],
   "source": [
    "# %%writefile flask_prefix_tree.py\n",
    "from flask import Flask, request, jsonify, g\n",
    "import json\n",
    "import pandas as pd\n",
    "import re\n",
    "\n",
    "app = Flask(__name__)\n",
    "class PrefixTree:\n",
    "    def __init__(self):\n",
    "        self.tree = [{}]\n",
    "    \n",
    "    def insert(self, key):\n",
    "        '''\n",
    "        Добавляет key в дерево\n",
    "        '''\n",
    "        if not self.check(key):\n",
    "            mas = self.tree\n",
    "            for i in key:\n",
    "                if i in mas[0]:\n",
    "                    mas = mas[0][i]\n",
    "                else:\n",
    "                    mas[0][i] = [{}]\n",
    "                    mas = mas[0][i]\n",
    "            mas.append(1)\n",
    "    \n",
    "    def check(self, key, check_only=True):\n",
    "        '''Проверяет присутствует ли  строка в дереве. Если increase = True Увеличивает число обращаение по данной строке на 1'''\n",
    "        mas = self.tree\n",
    "        for i in key:\n",
    "            if i not in mas[0]:\n",
    "                return False\n",
    "            else:\n",
    "                mas = mas[0][i]\n",
    "        if len(mas) != 1:\n",
    "            mas[1] += 1\n",
    "            return True if check_only else (True, mas[1])\n",
    "        else:\n",
    "            return False\n",
    "\n",
    "    def check_part(self, key):\n",
    "        '''Проверяет наличие подстроки в дереве'''\n",
    "        mas = self.tree\n",
    "        for i in key:\n",
    "            if i not in mas[0]:\n",
    "                return False\n",
    "            else:\n",
    "                mas = mas[0][i]\n",
    "        return True \n",
    "\n",
    "    \n",
    "    def top_5(self, key):\n",
    "        \n",
    "        def f(m, key):\n",
    "            num = 0\n",
    "            w = ''\n",
    "            top = {}\n",
    "            for i in m[0]:\n",
    "                if self.check(key + i) and len(m[0][i]) > 1:\n",
    "                    num = m[0][i][1]\n",
    "                    w = key + i\n",
    "                temp = f(m[0][i], key + i)\n",
    "                if temp != (0, ''):\n",
    "                    d[temp[1]] = temp[0]\n",
    "            return num, w\n",
    "        \n",
    "        m = self.tree\n",
    "        d = dict()\n",
    "        for i in key:\n",
    "            m = m[0][i]\n",
    "        if self.check(key):\n",
    "            d[key] = m[1]\n",
    "        f(m, key)\n",
    "        top = [(v, k) for k, v in d.items()]\n",
    "        top.sort(reverse=True)\n",
    "        guess = [i[1] for i in top[:5]]\n",
    "        return guess\n",
    "    \n",
    "def add_links(word, df):\n",
    "    '''Выводит 3 наиболее популярные ссылки на статьи, содержащие в названии введенное слово'''\n",
    "    i = k = 0\n",
    "    links = []\n",
    "    while i < df.shape[0] and k < 5:\n",
    "        if word in df.Title.iloc[i]:\n",
    "            links.append(df.Link.iloc[i])\n",
    "            k += 1\n",
    "        i += 1\n",
    "    return links\n",
    "            \n",
    "            \n",
    "def init_prefix_tree(filename):\n",
    "    #TODO в данном методе загружаем данные из файла. Предположим вормат файла \"Строка, чтобы положить в дерево\" \\t \"json значение для ноды\" \\t частота встречаемости\n",
    "    filename = 'data'\n",
    "    data = pd.read_csv(filename, sep=\"@\")\n",
    "    baobab = PrefixTree()\n",
    "    for row in data.Title:\n",
    "        items = re.findall('[a-z]+', row) # Оставляем только буквы\n",
    "        for item in items:\n",
    "            if len(item) > 4:\n",
    "                baobab.insert(item.lower())\n",
    "    return baobab, data\n",
    "\n",
    "# def t(string):\n",
    "#     tree, df = init_prefix_tree('data')\n",
    "#     res = []\n",
    "#     words = tree.top_5(string)\n",
    "#     guess = { w : add_links(w, df) for w in words}\n",
    "#     return guess\n",
    "\n",
    "@app.route(\"/get_sudgest/<string>\", methods=['GET', 'POST'])\n",
    "def return_sudgest(string):\n",
    "    #TODO по запросу string вернуть json, c топ-10 саджестами, и значениями из нод  \n",
    "    tree, df = init_prefix_tree('data')\n",
    "    try:\n",
    "        words = tree.top_5(string)\n",
    "        print(words)\n",
    "        guess = { w : add_links(w, df) for w in words}\n",
    "    except: \n",
    "        guess = \"Nothing was found\"\n",
    "    return json.dumps(guess)\n",
    "\n",
    "@app.route(\"/\")\n",
    "def hello():\n",
    "    return 'Hi there. Try ~/get_sudgest/<string>'\n",
    "    \n",
    "if __name__ == \"__main__\":\n",
    "    app.run()"
   ]
  },
  {
   "cell_type": "code",
   "execution_count": 155,
   "metadata": {},
   "outputs": [],
   "source": [
    "pr_tree = PrefixTree()\n",
    "pr_tree.insert(\"строка\")\n",
    "assert pr_tree.check(\"строка\")\n",
    "assert not pr_tree.check(\"строк\")\n",
    "assert not pr_tree.check(\"строка1\")\n",
    "assert pr_tree.check_part(\"стро\")"
   ]
  },
  {
   "cell_type": "code",
   "execution_count": 156,
   "metadata": {},
   "outputs": [],
   "source": [
    "g = init_prefix_tree('data')"
   ]
  },
  {
   "cell_type": "code",
   "execution_count": 157,
   "metadata": {},
   "outputs": [
    {
     "data": {
      "text/plain": [
       "<__main__.PrefixTree at 0x7fc461117a58>"
      ]
     },
     "execution_count": 157,
     "metadata": {},
     "output_type": "execute_result"
    }
   ],
   "source": [
    "g[0]"
   ]
  },
  {
   "cell_type": "code",
   "execution_count": 159,
   "metadata": {},
   "outputs": [
    {
     "data": {
      "text/plain": [
       "['quantum']"
      ]
     },
     "execution_count": 159,
     "metadata": {},
     "output_type": "execute_result"
    }
   ],
   "source": [
    "g[0].top_5('quantum')"
   ]
  },
  {
   "cell_type": "code",
   "execution_count": 150,
   "metadata": {},
   "outputs": [
    {
     "ename": "TypeError",
     "evalue": "'in <string>' requires string as left operand, not tuple",
     "output_type": "error",
     "traceback": [
      "\u001b[0;31m---------------------------------------------------------------------------\u001b[0m",
      "\u001b[0;31mTypeError\u001b[0m                                 Traceback (most recent call last)",
      "\u001b[0;32m<ipython-input-150-d9f61456ad89>\u001b[0m in \u001b[0;36m<module>\u001b[0;34m()\u001b[0m\n\u001b[0;32m----> 1\u001b[0;31m \u001b[0mt\u001b[0m\u001b[0;34m(\u001b[0m\u001b[0;34m'quantum'\u001b[0m\u001b[0;34m)\u001b[0m\u001b[0;34m\u001b[0m\u001b[0m\n\u001b[0m",
      "\u001b[0;32m<ipython-input-145-cd4600e2f5f1>\u001b[0m in \u001b[0;36mt\u001b[0;34m(string)\u001b[0m\n\u001b[1;32m    104\u001b[0m     \u001b[0mres\u001b[0m \u001b[0;34m=\u001b[0m \u001b[0;34m[\u001b[0m\u001b[0;34m]\u001b[0m\u001b[0;34m\u001b[0m\u001b[0m\n\u001b[1;32m    105\u001b[0m     \u001b[0mwords\u001b[0m \u001b[0;34m=\u001b[0m \u001b[0mtree\u001b[0m\u001b[0;34m.\u001b[0m\u001b[0mtop_5\u001b[0m\u001b[0;34m(\u001b[0m\u001b[0mstring\u001b[0m\u001b[0;34m)\u001b[0m\u001b[0;34m\u001b[0m\u001b[0m\n\u001b[0;32m--> 106\u001b[0;31m     \u001b[0mguess\u001b[0m \u001b[0;34m=\u001b[0m \u001b[0;34m{\u001b[0m \u001b[0mw\u001b[0m \u001b[0;34m:\u001b[0m \u001b[0madd_links\u001b[0m\u001b[0;34m(\u001b[0m\u001b[0mw\u001b[0m\u001b[0;34m,\u001b[0m \u001b[0mdf\u001b[0m\u001b[0;34m)\u001b[0m \u001b[0;32mfor\u001b[0m \u001b[0mw\u001b[0m \u001b[0;32min\u001b[0m \u001b[0mwords\u001b[0m\u001b[0;34m}\u001b[0m\u001b[0;34m\u001b[0m\u001b[0m\n\u001b[0m\u001b[1;32m    107\u001b[0m     \u001b[0;32mreturn\u001b[0m \u001b[0mguess\u001b[0m\u001b[0;34m\u001b[0m\u001b[0m\n\u001b[1;32m    108\u001b[0m \u001b[0;34m\u001b[0m\u001b[0m\n",
      "\u001b[0;32m<ipython-input-145-cd4600e2f5f1>\u001b[0m in \u001b[0;36m<dictcomp>\u001b[0;34m(.0)\u001b[0m\n\u001b[1;32m    104\u001b[0m     \u001b[0mres\u001b[0m \u001b[0;34m=\u001b[0m \u001b[0;34m[\u001b[0m\u001b[0;34m]\u001b[0m\u001b[0;34m\u001b[0m\u001b[0m\n\u001b[1;32m    105\u001b[0m     \u001b[0mwords\u001b[0m \u001b[0;34m=\u001b[0m \u001b[0mtree\u001b[0m\u001b[0;34m.\u001b[0m\u001b[0mtop_5\u001b[0m\u001b[0;34m(\u001b[0m\u001b[0mstring\u001b[0m\u001b[0;34m)\u001b[0m\u001b[0;34m\u001b[0m\u001b[0m\n\u001b[0;32m--> 106\u001b[0;31m     \u001b[0mguess\u001b[0m \u001b[0;34m=\u001b[0m \u001b[0;34m{\u001b[0m \u001b[0mw\u001b[0m \u001b[0;34m:\u001b[0m \u001b[0madd_links\u001b[0m\u001b[0;34m(\u001b[0m\u001b[0mw\u001b[0m\u001b[0;34m,\u001b[0m \u001b[0mdf\u001b[0m\u001b[0;34m)\u001b[0m \u001b[0;32mfor\u001b[0m \u001b[0mw\u001b[0m \u001b[0;32min\u001b[0m \u001b[0mwords\u001b[0m\u001b[0;34m}\u001b[0m\u001b[0;34m\u001b[0m\u001b[0m\n\u001b[0m\u001b[1;32m    107\u001b[0m     \u001b[0;32mreturn\u001b[0m \u001b[0mguess\u001b[0m\u001b[0;34m\u001b[0m\u001b[0m\n\u001b[1;32m    108\u001b[0m \u001b[0;34m\u001b[0m\u001b[0m\n",
      "\u001b[0;32m<ipython-input-145-cd4600e2f5f1>\u001b[0m in \u001b[0;36madd_links\u001b[0;34m(word, df)\u001b[0m\n\u001b[1;32m     81\u001b[0m     \u001b[0mlinks\u001b[0m \u001b[0;34m=\u001b[0m \u001b[0;34m[\u001b[0m\u001b[0;34m]\u001b[0m\u001b[0;34m\u001b[0m\u001b[0m\n\u001b[1;32m     82\u001b[0m     \u001b[0;32mwhile\u001b[0m \u001b[0mi\u001b[0m \u001b[0;34m<\u001b[0m \u001b[0mdf\u001b[0m\u001b[0;34m.\u001b[0m\u001b[0mshape\u001b[0m\u001b[0;34m[\u001b[0m\u001b[0;36m0\u001b[0m\u001b[0;34m]\u001b[0m \u001b[0;32mand\u001b[0m \u001b[0mk\u001b[0m \u001b[0;34m<\u001b[0m \u001b[0;36m5\u001b[0m\u001b[0;34m:\u001b[0m\u001b[0;34m\u001b[0m\u001b[0m\n\u001b[0;32m---> 83\u001b[0;31m         \u001b[0;32mif\u001b[0m \u001b[0mword\u001b[0m \u001b[0;32min\u001b[0m \u001b[0mdf\u001b[0m\u001b[0;34m.\u001b[0m\u001b[0mTitle\u001b[0m\u001b[0;34m.\u001b[0m\u001b[0miloc\u001b[0m\u001b[0;34m[\u001b[0m\u001b[0mi\u001b[0m\u001b[0;34m]\u001b[0m\u001b[0;34m:\u001b[0m\u001b[0;34m\u001b[0m\u001b[0m\n\u001b[0m\u001b[1;32m     84\u001b[0m             \u001b[0mlinks\u001b[0m\u001b[0;34m.\u001b[0m\u001b[0mappend\u001b[0m\u001b[0;34m(\u001b[0m\u001b[0mdf\u001b[0m\u001b[0;34m.\u001b[0m\u001b[0mLink\u001b[0m\u001b[0;34m.\u001b[0m\u001b[0miloc\u001b[0m\u001b[0;34m[\u001b[0m\u001b[0mi\u001b[0m\u001b[0;34m]\u001b[0m\u001b[0;34m)\u001b[0m\u001b[0;34m\u001b[0m\u001b[0m\n\u001b[1;32m     85\u001b[0m             \u001b[0mk\u001b[0m \u001b[0;34m+=\u001b[0m \u001b[0;36m1\u001b[0m\u001b[0;34m\u001b[0m\u001b[0m\n",
      "\u001b[0;31mTypeError\u001b[0m: 'in <string>' requires string as left operand, not tuple"
     ]
    }
   ],
   "source": [
    "t('quantum')"
   ]
  },
  {
   "cell_type": "code",
   "execution_count": 44,
   "metadata": {},
   "outputs": [],
   "source": [
    "df = pd.read_csv('data', sep='@')\n",
    "df = df.sort_values('Qoutes',ascending=False)"
   ]
  },
  {
   "cell_type": "code",
   "execution_count": 151,
   "metadata": {},
   "outputs": [],
   "source": [
    "word = 'quantum'.lower()\n",
    "def add_links(word,df):\n",
    "    '''\n",
    "    Выводит 3 наиболее популярные ссылки на статьи, содержащие в названии введенное слово\n",
    "    '''\n",
    "    i = k = 0\n",
    "    links = []\n",
    "    while i < df.shape[0] and k < 5:\n",
    "        if word in df.Title.iloc[i]:\n",
    "            links.append(df.Link.iloc[i])\n",
    "            k += 1\n",
    "        i += 1\n",
    "    return links"
   ]
  },
  {
   "cell_type": "code",
   "execution_count": 153,
   "metadata": {},
   "outputs": [
    {
     "data": {
      "text/plain": [
       "{'q': ['https://elibrary.ru/item.asp?id=27566821',\n",
       "  'https://elibrary.ru/item.asp?id=24529250',\n",
       "  'https://elibrary.ru/item.asp?id=24712232',\n",
       "  'https://elibrary.ru/item.asp?id=24521905',\n",
       "  'https://elibrary.ru/item.asp?id=24544646'],\n",
       " 'u': ['https://elibrary.ru/item.asp?id=27566821',\n",
       "  'https://elibrary.ru/item.asp?id=24529250',\n",
       "  'https://elibrary.ru/item.asp?id=24712232',\n",
       "  'https://elibrary.ru/item.asp?id=24521905',\n",
       "  'https://elibrary.ru/item.asp?id=24544646'],\n",
       " 'a': ['https://elibrary.ru/item.asp?id=27566821',\n",
       "  'https://elibrary.ru/item.asp?id=24529250',\n",
       "  'https://elibrary.ru/item.asp?id=24712232',\n",
       "  'https://elibrary.ru/item.asp?id=24521905',\n",
       "  'https://elibrary.ru/item.asp?id=24544646'],\n",
       " 'n': ['https://elibrary.ru/item.asp?id=27566821',\n",
       "  'https://elibrary.ru/item.asp?id=24529250',\n",
       "  'https://elibrary.ru/item.asp?id=24712232',\n",
       "  'https://elibrary.ru/item.asp?id=24521905',\n",
       "  'https://elibrary.ru/item.asp?id=24544646'],\n",
       " 't': ['https://elibrary.ru/item.asp?id=27566821',\n",
       "  'https://elibrary.ru/item.asp?id=24529250',\n",
       "  'https://elibrary.ru/item.asp?id=24712232',\n",
       "  'https://elibrary.ru/item.asp?id=24521905',\n",
       "  'https://elibrary.ru/item.asp?id=24544646'],\n",
       " 'm': ['https://elibrary.ru/item.asp?id=27566821',\n",
       "  'https://elibrary.ru/item.asp?id=24529250',\n",
       "  'https://elibrary.ru/item.asp?id=24712232',\n",
       "  'https://elibrary.ru/item.asp?id=24521905',\n",
       "  'https://elibrary.ru/item.asp?id=24544646']}"
      ]
     },
     "execution_count": 153,
     "metadata": {},
     "output_type": "execute_result"
    }
   ],
   "source": [
    "{w: add_links('quantum',df) for w in word}"
   ]
  },
  {
   "cell_type": "code",
   "execution_count": null,
   "metadata": {},
   "outputs": [],
   "source": [
    "df.shape[0]"
   ]
  }
 ],
 "metadata": {
  "kernelspec": {
   "display_name": "Python 3",
   "language": "python",
   "name": "python3"
  },
  "language_info": {
   "codemirror_mode": {
    "name": "ipython",
    "version": 3
   },
   "file_extension": ".py",
   "mimetype": "text/x-python",
   "name": "python",
   "nbconvert_exporter": "python",
   "pygments_lexer": "ipython3",
   "version": "3.7.0"
  }
 },
 "nbformat": 4,
 "nbformat_minor": 2
}
