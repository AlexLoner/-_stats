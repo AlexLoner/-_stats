{
 "cells": [
  {
   "cell_type": "code",
   "execution_count": 8,
   "metadata": {},
   "outputs": [
    {
     "name": "stdout",
     "output_type": "stream",
     "text": [
      "Overwriting flask_prefix_tree.py\n"
     ]
    }
   ],
   "source": [
    "%%writefile flask_prefix_tree.py\n",
    "from flask import Flask, request, jsonify\n",
    "import json\n",
    "import pandas as pd\n",
    "import re\n",
    "\n",
    "app = Flask(__name__)\n",
    "class PrefixTree:\n",
    "    def __init__(self):\n",
    "        self.tree = [{}]\n",
    "    \n",
    "    def insert(self, key):\n",
    "        '''\n",
    "        Добавляет key в дерево\n",
    "        '''\n",
    "        if not self.check(key):\n",
    "            mas = self.tree\n",
    "            for i in key:\n",
    "                if i in mas[0]:\n",
    "                    mas = mas[0][i]\n",
    "                else:\n",
    "                    mas[0][i] = [{}]\n",
    "                    mas = mas[0][i]\n",
    "            mas.append(1)\n",
    "    \n",
    "    def check(self, key, check_only=True):\n",
    "        '''Проверяет присутствует ли  строка в дереве. Если increase = True Увеличивает число обращаение по данной строке на 1'''\n",
    "        mas = self.tree\n",
    "        for i in key:\n",
    "            if i not in mas[0]:\n",
    "                return False\n",
    "            else:\n",
    "                mas = mas[0][i]\n",
    "        if len(mas) != 1:\n",
    "            mas[1] += 1\n",
    "            return True if check_only else (True, mas[1])\n",
    "        else:\n",
    "            return False\n",
    "\n",
    "    def check_part(self, key):\n",
    "        '''Проверяет наличие подстроки в дереве'''\n",
    "        mas = self.tree\n",
    "        for i in key:\n",
    "            if i not in mas[0]:\n",
    "                return False\n",
    "            else:\n",
    "                mas = mas[0][i]\n",
    "        return True \n",
    "\n",
    "    \n",
    "    def top_5(self, key):\n",
    "        \n",
    "        def f(m, key):\n",
    "            num = 0\n",
    "            w = ''\n",
    "            top = {}\n",
    "            for i in m[0]:\n",
    "                if self.check(key + i) and len(m[0][i]) > 1:\n",
    "                    num = m[0][i][1]\n",
    "                    w = key + i\n",
    "                temp = f(m[0][i], key + i)\n",
    "                if temp != (0, ''):\n",
    "                    d[temp[1]] = temp[0]\n",
    "            return num, w\n",
    "        \n",
    "        m = self.tree\n",
    "        d = dict()\n",
    "        for i in key:\n",
    "            m = m[0][i]\n",
    "        if self.check(key):\n",
    "            d[key] = m[1]\n",
    "        f(m, key)\n",
    "        top = [(v, k) for k, v in d.items()]\n",
    "        top.sort(reverse=True)\n",
    "        guess = [i[1] for i in top[:5]]\n",
    "        return guess\n",
    "    \n",
    "def add_links(word, df):\n",
    "    '''Выводит 3 наиболее популярные ссылки на статьи, содержащие в названии введенное слово'''\n",
    "    i = k = 0\n",
    "    links = {}\n",
    "    while i < df.shape[0] and k < 3:\n",
    "        if word in df.Title.iloc[i]:\n",
    "            links[df.Title.iloc[i]] = df.Link.iloc[i]\n",
    "            k += 1\n",
    "        i += 1\n",
    "    return links\n",
    "            \n",
    "            \n",
    "def init_prefix_tree(filename):\n",
    "    #TODO в данном методе загружаем данные из файла. Предположим вормат файла \"Строка, чтобы положить в дерево\" \\t \"json значение для ноды\" \\t частота встречаемости\n",
    "    filename = 'data'\n",
    "    data = pd.read_csv(filename, sep=\"@\")\n",
    "    baobab = PrefixTree()\n",
    "    for row in data.Title:\n",
    "        items = re.findall('[a-z]+', row) # Оставляем только буквы\n",
    "        for item in items:\n",
    "            if len(item) > 4:\n",
    "                baobab.insert(item.lower())\n",
    "    return baobab, data\n",
    "\n",
    "@app.route(\"/get_sudgest/<string>\", methods=['GET', 'POST'])\n",
    "def return_sudgest(string):\n",
    "    #TODO по запросу string вернуть json, c топ-10 саджестами, и значениями из нод  \n",
    "    tree, df = init_prefix_tree('data')\n",
    "    try:\n",
    "        words = tree.top_5(string)\n",
    "        print(words)\n",
    "        guess = [add_links(w, df) for w in words]\n",
    "    except: \n",
    "        guess = \"Nothing was found\"\n",
    "    return jsonify(guess)\n",
    "#     return current_app.response_class(json.dumps(guess), mimetype=\"application/json\")\n",
    "\n",
    "@app.route(\"/\")\n",
    "def hello():\n",
    "    return 'Hi there. Try ~/get_sudgest/<string>'\n",
    "    \n",
    "if __name__ == \"__main__\":\n",
    "    app.run()"
   ]
  },
  {
   "cell_type": "code",
   "execution_count": 2,
   "metadata": {},
   "outputs": [],
   "source": [
    "pr_tree = PrefixTree()\n",
    "pr_tree.insert(\"строка\")\n",
    "assert pr_tree.check(\"строка\")\n",
    "assert not pr_tree.check(\"строк\")\n",
    "assert not pr_tree.check(\"строка1\")\n",
    "assert pr_tree.check_part(\"стро\")"
   ]
  },
  {
   "cell_type": "code",
   "execution_count": 3,
   "metadata": {},
   "outputs": [],
   "source": [
    "g = init_prefix_tree('data')"
   ]
  },
  {
   "cell_type": "code",
   "execution_count": 4,
   "metadata": {
    "scrolled": true
   },
   "outputs": [
    {
     "data": {
      "text/plain": [
       "<__main__.PrefixTree at 0x7fd4ec0a17f0>"
      ]
     },
     "execution_count": 4,
     "metadata": {},
     "output_type": "execute_result"
    }
   ],
   "source": [
    "g[0]"
   ]
  },
  {
   "cell_type": "code",
   "execution_count": 5,
   "metadata": {},
   "outputs": [
    {
     "data": {
      "text/plain": [
       "['quantum']"
      ]
     },
     "execution_count": 5,
     "metadata": {},
     "output_type": "execute_result"
    }
   ],
   "source": [
    "g[0].top_5('quantum')"
   ]
  },
  {
   "cell_type": "code",
   "execution_count": 6,
   "metadata": {
    "scrolled": true
   },
   "outputs": [
    {
     "ename": "NameError",
     "evalue": "name 't' is not defined",
     "output_type": "error",
     "traceback": [
      "\u001b[0;31m---------------------------------------------------------------------------\u001b[0m",
      "\u001b[0;31mNameError\u001b[0m                                 Traceback (most recent call last)",
      "\u001b[0;32m<ipython-input-6-9dc5c4863cd9>\u001b[0m in \u001b[0;36m<module>\u001b[0;34m\u001b[0m\n\u001b[0;32m----> 1\u001b[0;31m \u001b[0mf\u001b[0m \u001b[0;34m=\u001b[0m \u001b[0mt\u001b[0m\u001b[0;34m(\u001b[0m\u001b[0;34m'quan'\u001b[0m\u001b[0;34m)\u001b[0m\u001b[0;34m\u001b[0m\u001b[0m\n\u001b[0m",
      "\u001b[0;31mNameError\u001b[0m: name 't' is not defined"
     ]
    }
   ],
   "source": [
    "f = t('quan')"
   ]
  },
  {
   "cell_type": "code",
   "execution_count": null,
   "metadata": {},
   "outputs": [],
   "source": [
    "f[1]"
   ]
  }
 ],
 "metadata": {
  "kernelspec": {
   "display_name": "Python 3",
   "language": "python",
   "name": "python3"
  },
  "language_info": {
   "codemirror_mode": {
    "name": "ipython",
    "version": 3
   },
   "file_extension": ".py",
   "mimetype": "text/x-python",
   "name": "python",
   "nbconvert_exporter": "python",
   "pygments_lexer": "ipython3",
   "version": "3.6.6"
  }
 },
 "nbformat": 4,
 "nbformat_minor": 2
}
